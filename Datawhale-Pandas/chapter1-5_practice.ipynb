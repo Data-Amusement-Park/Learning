{
 "cells": [
  {
   "cell_type": "markdown",
   "metadata": {},
   "source": [
    "# chapter1-5_practice"
   ]
  },
  {
   "cell_type": "code",
   "execution_count": 2,
   "metadata": {},
   "outputs": [],
   "source": [
    "import pandas as pd\n",
    "import numpy as np"
   ]
  },
  {
   "cell_type": "markdown",
   "metadata": {},
   "source": [
    "## 一、2002 年-2018 年上海机动车拍照拍卖"
   ]
  },
  {
   "cell_type": "code",
   "execution_count": 3,
   "metadata": {},
   "outputs": [
    {
     "output_type": "execute_result",
     "data": {
      "text/plain": "    Date  Total number of license issued  lowest price   avg price  \\\n0  2-Jan                            1400          13600      14735   \n1  2-Feb                            1800          13100      14057   \n2  2-Mar                            2000          14300      14662   \n3  2-Apr                            2300          16000      16334   \n4  2-May                            2350          17800      18357   \n\n   Total number of applicants  \n0                        3718  \n1                        4590  \n2                        5190  \n3                        4806  \n4                        4665  ",
      "text/html": "<div>\n<style scoped>\n    .dataframe tbody tr th:only-of-type {\n        vertical-align: middle;\n    }\n\n    .dataframe tbody tr th {\n        vertical-align: top;\n    }\n\n    .dataframe thead th {\n        text-align: right;\n    }\n</style>\n<table border=\"1\" class=\"dataframe\">\n  <thead>\n    <tr style=\"text-align: right;\">\n      <th></th>\n      <th>Date</th>\n      <th>Total number of license issued</th>\n      <th>lowest price</th>\n      <th>avg price</th>\n      <th>Total number of applicants</th>\n    </tr>\n  </thead>\n  <tbody>\n    <tr>\n      <th>0</th>\n      <td>2-Jan</td>\n      <td>1400</td>\n      <td>13600</td>\n      <td>14735</td>\n      <td>3718</td>\n    </tr>\n    <tr>\n      <th>1</th>\n      <td>2-Feb</td>\n      <td>1800</td>\n      <td>13100</td>\n      <td>14057</td>\n      <td>4590</td>\n    </tr>\n    <tr>\n      <th>2</th>\n      <td>2-Mar</td>\n      <td>2000</td>\n      <td>14300</td>\n      <td>14662</td>\n      <td>5190</td>\n    </tr>\n    <tr>\n      <th>3</th>\n      <td>2-Apr</td>\n      <td>2300</td>\n      <td>16000</td>\n      <td>16334</td>\n      <td>4806</td>\n    </tr>\n    <tr>\n      <th>4</th>\n      <td>2-May</td>\n      <td>2350</td>\n      <td>17800</td>\n      <td>18357</td>\n      <td>4665</td>\n    </tr>\n  </tbody>\n</table>\n</div>"
     },
     "metadata": {},
     "execution_count": 3
    }
   ],
   "source": [
    "df1 = pd.read_csv('chapter1-5_practice_data/2002年-2018年上海机动车拍照拍卖.csv')\n",
    "df1.head()"
   ]
  },
  {
   "cell_type": "code",
   "execution_count": 5,
   "metadata": {},
   "outputs": [
    {
     "output_type": "execute_result",
     "data": {
      "text/plain": "       Date  Total number of license issued  lowest price   avg price  \\\n198  18-Aug                           10402          88300      88365   \n199  18-Sep                           12712          87300      87410   \n200  18-Oct                           10728          88000      88070   \n201  18-Nov                           11766          87300      87374   \n202  18-Dec                           12850          87400      87508   \n\n     Total number of applicants  \n198                      192755  \n199                      189142  \n200                      181861  \n201                      177355  \n202                      165442  ",
      "text/html": "<div>\n<style scoped>\n    .dataframe tbody tr th:only-of-type {\n        vertical-align: middle;\n    }\n\n    .dataframe tbody tr th {\n        vertical-align: top;\n    }\n\n    .dataframe thead th {\n        text-align: right;\n    }\n</style>\n<table border=\"1\" class=\"dataframe\">\n  <thead>\n    <tr style=\"text-align: right;\">\n      <th></th>\n      <th>Date</th>\n      <th>Total number of license issued</th>\n      <th>lowest price</th>\n      <th>avg price</th>\n      <th>Total number of applicants</th>\n    </tr>\n  </thead>\n  <tbody>\n    <tr>\n      <th>198</th>\n      <td>18-Aug</td>\n      <td>10402</td>\n      <td>88300</td>\n      <td>88365</td>\n      <td>192755</td>\n    </tr>\n    <tr>\n      <th>199</th>\n      <td>18-Sep</td>\n      <td>12712</td>\n      <td>87300</td>\n      <td>87410</td>\n      <td>189142</td>\n    </tr>\n    <tr>\n      <th>200</th>\n      <td>18-Oct</td>\n      <td>10728</td>\n      <td>88000</td>\n      <td>88070</td>\n      <td>181861</td>\n    </tr>\n    <tr>\n      <th>201</th>\n      <td>18-Nov</td>\n      <td>11766</td>\n      <td>87300</td>\n      <td>87374</td>\n      <td>177355</td>\n    </tr>\n    <tr>\n      <th>202</th>\n      <td>18-Dec</td>\n      <td>12850</td>\n      <td>87400</td>\n      <td>87508</td>\n      <td>165442</td>\n    </tr>\n  </tbody>\n</table>\n</div>"
     },
     "metadata": {},
     "execution_count": 5
    }
   ],
   "source": [
    "df1.tail()"
   ]
  },
  {
   "cell_type": "code",
   "execution_count": 4,
   "metadata": {},
   "outputs": [
    {
     "output_type": "execute_result",
     "data": {
      "text/plain": "(203, 5)"
     },
     "metadata": {},
     "execution_count": 4
    }
   ],
   "source": [
    "df1.shape"
   ]
  },
  {
   "cell_type": "code",
   "execution_count": 12,
   "metadata": {},
   "outputs": [],
   "source": [
    "df1=df1.rename(columns=dict(zip(df1.columns, ['data', 'issued', 'price_lowest', 'price_avg','applicants'])))"
   ]
  },
  {
   "cell_type": "markdown",
   "metadata": {},
   "source": [
    "### (1) 哪一次拍卖的中标率首次小于5%？"
   ]
  },
  {
   "cell_type": "code",
   "execution_count": 24,
   "metadata": {},
   "outputs": [
    {
     "output_type": "execute_result",
     "data": {
      "text/plain": "'15-May'"
     },
     "metadata": {},
     "execution_count": 24
    }
   ],
   "source": [
    "df1[(df1['issued']/df1['applicants'])<0.05]['data'].iloc[0]"
   ]
  },
  {
   "cell_type": "markdown",
   "metadata": {},
   "source": [
    "### (2) 按年统计拍卖最低价的下列统计量：最大值、均值、0.75 分位数，要求显示在同一张表上。"
   ]
  },
  {
   "cell_type": "code",
   "execution_count": null,
   "metadata": {},
   "outputs": [],
   "source": []
  },
  {
   "cell_type": "markdown",
   "metadata": {},
   "source": [
    "### (3) 将第一列时间列拆分成两个列，一列为年份（格式为20××），另一列为月份（英语缩写），添加到列表作为第一第二列，并将原表第一列删除，其他列依次向后顺延。"
   ]
  },
  {
   "cell_type": "markdown",
   "metadata": {},
   "source": [
    "### (4) 现在将表格行索引设为多级索引，外层为年份，内层为原表格第二至第五列的变量名，列索引为月份。"
   ]
  },
  {
   "cell_type": "markdown",
   "metadata": {},
   "source": [
    "### (5) 一般而言某个月最低价与上月最低价的差额，会与该月均值与上月均值的差额具有相同的正负号，哪些拍卖时间不具有这个特点？"
   ]
  },
  {
   "cell_type": "markdown",
   "metadata": {},
   "source": [
    "### (6) 将某一个月牌照发行量与其前两个月发行量均值的差额定义为发行增益，最初的两个月用0 填充，求发行增益极值出现的时间。"
   ]
  },
  {
   "cell_type": "markdown",
   "metadata": {},
   "source": [
    "## 二、2007 年-2019 年俄罗斯机场货运航班运载量"
   ]
  },
  {
   "cell_type": "markdown",
   "metadata": {},
   "source": [
    "### (1) 求每年货运航班总运量。"
   ]
  },
  {
   "cell_type": "markdown",
   "metadata": {},
   "source": [
    "### (2) 每年记录的机场都是相同的吗？"
   ]
  },
  {
   "cell_type": "markdown",
   "metadata": {},
   "source": [
    "### (3) 按年计算2010 年-2015 年全年货运量记录为0 的机场航班比例。"
   ]
  },
  {
   "cell_type": "markdown",
   "metadata": {},
   "source": [
    "### (4) 若某机场至少存在5 年或以上满足所有月运量记录都为0，则将其所有年份的记录信息从表中删除，并返回处理后的表格"
   ]
  },
  {
   "cell_type": "markdown",
   "metadata": {},
   "source": [
    "### (5) 采用一种合理的方式将所有机场划分为东南西北四个分区，并给出2017年-2019 年货运总量最大的区域。"
   ]
  },
  {
   "cell_type": "markdown",
   "metadata": {},
   "source": [
    "### (6) 在统计学中常常用秩代表排名，现在规定某个机场某年某个月的秩为该机场该月在当年所有月份中货运量的排名（例如*** 机场19 年1 月运量在整个19 年12 个月中排名第一，则秩为1），那么判断某月运量情况的相对大小的秩方法为将所有机场在该月的秩排名相加，并将这个量定义为每一个月的秩综合指数，请根据上述定义计算2016 年12 个月的秩综合指数。"
   ]
  },
  {
   "cell_type": "markdown",
   "metadata": {},
   "source": [
    "## 三、新冠肺炎在美国的传播"
   ]
  },
  {
   "cell_type": "markdown",
   "metadata": {},
   "source": [
    "### (1) 用corr() 函数计算县（每行都是一个县）人口与表中最后一天记录日期死亡数的相关系数。"
   ]
  },
  {
   "cell_type": "markdown",
   "metadata": {},
   "source": [
    "### (2) 截止到4 月1 日，统计每个州零感染县的比例。"
   ]
  },
  {
   "cell_type": "markdown",
   "metadata": {},
   "source": [
    "### (3) 请找出最早出确证病例的三个县。"
   ]
  },
  {
   "cell_type": "markdown",
   "metadata": {},
   "source": [
    "### (4) 按州统计单日死亡增加数，并给出哪个州在哪一天确诊数增加最大（这里指的是在所有州和所有天两个指标一起算，不是分别算）。"
   ]
  },
  {
   "cell_type": "markdown",
   "metadata": {},
   "source": [
    "### (5) 现需对每个州编制确证与死亡表，第一列为时间，并且起始时间为该州开始出现死亡比例的那一天，第二列和第三列分别为确证数和死亡数，每个州需要保存为一个单独的csv 文件，文件名为“州名.csv”。"
   ]
  },
  {
   "cell_type": "markdown",
   "metadata": {},
   "source": [
    "### (6) 现需对4 月1 日至4 月10 日编制新增确证数与新增死亡数表，第一列为州名，第二列和第三列分别为新增确证数和新增死亡数，分别保存为十个单独的csv 文件，文件名为“日期.csv”。"
   ]
  }
 ],
 "metadata": {
  "language_info": {
   "codemirror_mode": {
    "name": "ipython",
    "version": 3
   },
   "file_extension": ".py",
   "mimetype": "text/x-python",
   "name": "python",
   "nbconvert_exporter": "python",
   "pygments_lexer": "ipython3",
   "version": "3.8.1-final"
  },
  "orig_nbformat": 2,
  "kernelspec": {
   "name": "python3",
   "display_name": "Python 3"
  }
 },
 "nbformat": 4,
 "nbformat_minor": 2
}