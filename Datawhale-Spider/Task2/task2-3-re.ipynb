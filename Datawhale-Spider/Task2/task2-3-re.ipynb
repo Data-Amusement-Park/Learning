{
 "cells": [
  {
   "cell_type": "markdown",
   "metadata": {},
   "source": [
    "# Task 2-3 re\n",
    "正则表达式"
   ]
  },
  {
   "cell_type": "markdown",
   "metadata": {},
   "source": [
    "## 1 正则表达式介绍\n",
    "典型的搜索和替换操作要求您提供与预期的搜索结果匹配的确切文本。虽然这种技术对于对静态文本执行简单搜索和替换任务可能已经足够了，但它缺乏灵活性，若采用这种方法搜索动态文本，即使不是不可能，至少也会变得很困难。\n",
    "\n",
    "* 正则表达式作用\n",
    "    \n",
    "    - 测试字符串内的模式。\n",
    "        例如，可以测试输入字符串，以查看字符串内是否出现电话号码模式或信用卡号码模式。这称为数据验证。\n",
    "    - 替换文本。\n",
    "        可以使用正则表达式来识别文档中的特定文本，完全删除该文本或者用其他文本替换它。\n",
    "    - 基于模式匹配从字符串中提取子字符串。\n",
    "        可以查找文档内或输入域内特定的文本。\n",
    "可以使用正则表达式来搜索和替换标记。\n",
    "\n",
    "* 使用正则表达式的优势是什么？  **简洁**\n",
    "    - 正则表达式是用来简洁表达一组字符串的表达式\n",
    "    - 正则表达式是一种通用的字符串表达框架\n",
    "    - 正则表达式是一种针对字符串表达“简洁”和“特征”思想的工具\n",
    "    - 正则表达式可以用来判断某字符串的特征归属\n",
    "\n",
    "* 正则表达式在文本处理中十分常用：\n",
    "    - 同时查找或替换一组字符串\n",
    "    - 匹配字符串的全部或部分(主要)"
   ]
  },
  {
   "cell_type": "markdown",
   "metadata": {},
   "source": [
    "## 2 正则表达式语法\n",
    "\n",
    "正则表达式语法由字符和操作符构成:\n",
    "\n",
    "- 常用操作符\n",
    "    - `.` 表示任何单个字符\n",
    "    - `[ ]` 字符集，对单个字符给出取值范围 ，如`[abc]`表示a、b、c，`[a‐z]`表示a到z单个字符\n",
    "    - `[^ ]` 非字符集，对单个字符给出排除范围 ，如`[^abc]`表示非a或b或c的单个字符\n",
    "    - `*` 前一个字符0次或无限次扩展，如abc* 表示 ab、abc、abcc、abccc等 \n",
    "    - `+` 前一个字符1次或无限次扩展 ，如abc+ 表示 abc、abcc、abccc等 \n",
    "    - `?` 前一个字符0次或1次扩展 ，如abc? 表示 ab、abc\n",
    "    - `|` 左右表达式任意一个 ，如abc|def 表示 abc、def\n",
    "\n",
    "    - `{m}` 扩展前一个字符m次 ，如ab{2}c表示abbc\n",
    "    - `{m,n}` 扩展前一个字符m至n次（含n） ，如ab{1,2}c表示abc、abbc\n",
    "    - `^` 匹配字符串开头 ，如^abc表示abc且在一个字符串的开头\n",
    "    - `$` 匹配字符串结尾 ，如abc$表示abc且在一个字符串的结尾\n",
    "    - `( )` 分组标记，内部只能使用 | 操作符 ，如(abc)表示abc，(abc|def)表示abc、def\n",
    "    - `\\d` 数字，等价于`[0‐9]`\n",
    "    - `\\w` 单词字符，等价于`[A‐Za‐z0‐9_]`"
   ]
  },
  {
   "cell_type": "markdown",
   "metadata": {},
   "source": [
    "## 3 正则表达式re库的使用\n",
    "\n",
    "- 调用方式：import re\n",
    "- re库采用raw string类型表示正则表达式，表示为：r'text'，raw string是不包含对转义符再次转义的字符串;\n",
    "\n",
    "#### re库的主要功能函数：\n",
    "\n",
    "- re.search() 在一个字符串中搜索匹配正则表达式的第一个位置，返回match对象 \n",
    "    - re.search(pattern, string, flags=0)\n",
    "- re.match() 从一个字符串的开始位置起匹配正则表达式，返回match对象\n",
    "    - re.match(pattern, string, flags=0)\n",
    "- re.findall() 搜索字符串，以列表类型返回全部能匹配的子串\n",
    "    - re.findall(pattern, string, flags=0)\n",
    "- re.split() 将一个字符串按照正则表达式匹配结果进行分割，返回列表类型\n",
    "    - re.split(pattern, string, maxsplit=0, flags=0)\n",
    "- re.finditer() 搜索字符串，返回一个匹配结果的迭代类型，每个迭代元素是match对象\n",
    "    - re.finditer(pattern, string, flags=0)\n",
    "- re.sub() 在一个字符串中替换所有匹配正则表达式的子串，返回替换后的字符串\n",
    "    - re.sub(pattern, repl, string, count=0, flags=0)\n",
    "\n",
    "    -  flags : 正则表达式使用时的控制标记：\n",
    "        - re.I -->  re.IGNORECASE :  忽略正则表达式的大小写，`[A‐Z]`能够匹配小写字符\n",
    "        - re.M -->  re.MULTILINE :  正则表达式中的^操作符能够将给定字符串的每行当作匹配开始\n",
    "        - re.S -->  re.DOTALL   :  正则表达式中的.操作符能够匹配所有字符，默认匹配除换行外的所有字符\n",
    "        \n",
    "#### re库的另一种等价用法（编译）\n",
    "\n",
    "- regex = re.compile(pattern, flags=0)：将正则表达式的字符串形式编译成正则表达式对象\n",
    "\n",
    "#### re 库的贪婪匹配和最小匹配\n",
    "\n",
    "- `.*` Re库默认采用贪婪匹配，即输出匹配最长的子串\n",
    "- `*?` 只要长度输出可能不同的，都可以通过在操作符后增加?变成最小匹配"
   ]
  },
  {
   "cell_type": "markdown",
   "metadata": {},
   "source": [
    "## 4 实战：淘宝商品比价定向爬虫\n",
    "\n",
    "- 爬取网址：https://s.taobao.com/search?q=书包&js=1&stats_click=search_radio_all%25\n",
    "- 爬取思路：\n",
    "    1. 提交商品搜索请求，循环获取页面\n",
    "    2. 对于每个页面，提取商品名称和价格信息\n",
    "    3. 将信息输出到屏幕上"
   ]
  },
  {
   "cell_type": "code",
   "execution_count": 16,
   "metadata": {},
   "outputs": [],
   "source": [
    "# 导入包\n",
    "import requests\n",
    "import re"
   ]
  },
  {
   "cell_type": "markdown",
   "metadata": {},
   "source": [
    "### (1). 提交商品搜索请求，循环获取页面"
   ]
  },
  {
   "cell_type": "markdown",
   "metadata": {},
   "source": [
    "* chrome找cookie：\n",
    "\n",
    "    F12, Network, 勾选preserve log, Doc过滤, Headers\n",
    "\n",
    "* 需要更换自己的cookie"
   ]
  },
  {
   "cell_type": "code",
   "execution_count": 17,
   "metadata": {},
   "outputs": [],
   "source": [
    "def getHTMLText(url):\n",
    "    \"\"\"\n",
    "    请求获取html，（字符串）\n",
    "    :param url: 爬取网址\n",
    "    :return: 字符串\n",
    "    \"\"\"\n",
    "    try:\n",
    "        # 添加头信息,\n",
    "        kv = {\n",
    "            'cookie': 'thw=cn; v=0; t=ab66dffdedcb481f77fd563809639584; cookie2=1f14e41c704ef58f8b66ff509d0d122e; _tb_token_=5e6bed8635536; cna=fGOnFZvieDECAXWIVi96eKju; unb=1864721683; sg=%E4%B8%8B3f; _l_g_=Ug%3D%3D; skt=83871ef3b7a49a0f; cookie1=BqeGegkL%2BLUif2jpoUcc6t6Ogy0RFtJuYXR4VHB7W0A%3D; csg=3f233d33; uc3=vt3=F8dBy3%2F50cpZbAursCI%3D&id2=UondEBnuqeCnfA%3D%3D&nk2=u%2F5wdRaOPk21wDx%2F&lg2=VFC%2FuZ9ayeYq2g%3D%3D; existShop=MTU2MjUyMzkyMw%3D%3D; tracknick=%5Cu4E36%5Cu541B%5Cu4E34%5Cu4E3F%5Cu5929%5Cu4E0B; lgc=%5Cu4E36%5Cu541B%5Cu4E34%5Cu4E3F%5Cu5929%5Cu4E0B; _cc_=WqG3DMC9EA%3D%3D; dnk=%5Cu4E36%5Cu541B%5Cu4E34%5Cu4E3F%5Cu5929%5Cu4E0B; _nk_=%5Cu4E36%5Cu541B%5Cu4E34%5Cu4E3F%5Cu5929%5Cu4E0B; cookie17=UondEBnuqeCnfA%3D%3D; tg=0; enc=2GbbFv3joWCJmxVZNFLPuxUUDA7QTpES2D5NF0D6T1EIvSUqKbx15CNrsn7nR9g%2Fz8gPUYbZEI95bhHG8M9pwA%3D%3D; hng=CN%7Czh-CN%7CCNY%7C156; mt=ci=32_1; alitrackid=www.taobao.com; lastalitrackid=www.taobao.com; swfstore=97213; x=e%3D1%26p%3D*%26s%3D0%26c%3D0%26f%3D0%26g%3D0%26t%3D0%26__ll%3D-1%26_ato%3D0; uc1=cookie16=UtASsssmPlP%2Ff1IHDsDaPRu%2BPw%3D%3D&cookie21=UIHiLt3xThH8t7YQouiW&cookie15=URm48syIIVrSKA%3D%3D&existShop=false&pas=0&cookie14=UoTaGqj%2FcX1yKw%3D%3D&tag=8&lng=zh_CN; JSESSIONID=A502D8EDDCE7B58F15F170380A767027; isg=BMnJJFqj8FrUHowu4yKyNXcd2PXjvpa98f4aQWs-RbDvsunEs2bNGLfj8BYE6lWA; l=cBTDZx2mqxnxDRr0BOCanurza77OSIRYYuPzaNbMi_5dd6T114_OkmrjfF96VjWdO2LB4G2npwJ9-etkZ1QoqpJRWkvP.; whl=-1%260%260%261562528831082',\n",
    "            'user-agent': 'Mozilla/5.0'\n",
    "        }\n",
    "        r = requests.get(url, timeout=30, headers=kv)\n",
    "        # r = requests.get(url, timeout=30)\n",
    "        # print(r.status_code)\n",
    "        r.raise_for_status()\n",
    "        r.encoding = r.apparent_encoding\n",
    "        return r.text\n",
    "    except:\n",
    "        return \"爬取失败\""
   ]
  },
  {
   "cell_type": "markdown",
   "metadata": {},
   "source": [
    "### (2). 对于每个页面，提取商品名称和价格信息"
   ]
  },
  {
   "cell_type": "code",
   "execution_count": 18,
   "metadata": {},
   "outputs": [],
   "source": [
    "def parsePage(glist, html):\n",
    "    '''\n",
    "    解析网页，搜索需要的信息\n",
    "    :param glist: 列表作为存储容器\n",
    "    :param html: 由getHTMLText()得到的\n",
    "    :return: 商品信息的列表\n",
    "    '''\n",
    "    try:\n",
    "        # 使用正则表达式提取信息\n",
    "        price_list = re.findall(r'\\\"view_price\\\"\\:\\\"[\\d\\.]*\\\"', html)\n",
    "        name_list = re.findall(r'\\\"raw_title\\\"\\:\\\".*?\\\"', html)\n",
    "        for i in range(len(price_list)):\n",
    "            price = eval(price_list[i].split(\":\")[1])  #eval（）在此可以去掉\"\"\n",
    "            name = eval(name_list[i].split(\":\")[1])\n",
    "            glist.append([price, name])\n",
    "    except:\n",
    "        print(\"解析失败\")"
   ]
  },
  {
   "cell_type": "code",
   "execution_count": 19,
   "metadata": {},
   "outputs": [],
   "source": [
    "def printGoodList(glist):\n",
    "    tplt = \"{0:^4}\\t{1:^6}\\t{2:^10}\"\n",
    "    print(tplt.format(\"序号\", \"商品价格\", \"商品名称\"))\n",
    "    count = 0\n",
    "    for g in glist:\n",
    "        count = count + 1\n",
    "        print(tplt.format(count, g[0], g[1]))"
   ]
  },
  {
   "cell_type": "code",
   "execution_count": 20,
   "metadata": {},
   "outputs": [],
   "source": [
    "# 根据页面url的变化寻找规律，构建爬取url\n",
    "goods_name = \"书包\"  # 搜索商品类型\n",
    "start_url = \"https://s.taobao.com/search?q=\" + goods_name\n",
    "info_list = []\n",
    "page = 3  # 爬取页面数量"
   ]
  },
  {
   "cell_type": "code",
   "execution_count": 21,
   "metadata": {},
   "outputs": [
    {
     "output_type": "stream",
     "name": "stdout",
     "text": "status_code: 200\n爬取页面当前进度: 33.33%status_code: 200\n爬取页面当前进度: 66.67%status_code: 200\n爬取页面当前进度: 100.00%"
    }
   ],
   "source": [
    "count = 0\n",
    "for i in range(page):\n",
    "    count += 1\n",
    "    try:\n",
    "        url = start_url + \"&s=\" + str(44 * i)\n",
    "        html = getHTMLText(url)  # 爬取url\n",
    "        parsePage(info_list, html) #解析HTML和爬取内容\n",
    "        print(\"\\r爬取页面当前进度: {:.2f}%\".format(count * 100 / page), end=\"\")  # 显示进度条\n",
    "    except:\n",
    "        continue"
   ]
  },
  {
   "cell_type": "code",
   "execution_count": 22,
   "metadata": {},
   "outputs": [
    {
     "output_type": "stream",
     "name": "stdout",
     "text": "序号 \t 商品价格 \t   商品名称   \n 1  \t138.00\t电脑包大书包大学生女生背包大双肩包大容量\n 2  \t59.00 \t双肩包男士大容量旅行电脑背包时尚潮流高中初中学生书包女大学生\n 3  \t149.00\t鳄鱼男士双肩包商务休闲电脑帆布背包旅游旅行包时尚潮流学生书包\n 4  \t279.00\tJordan 官方 AIR JORDAN 双肩包 书包背包\n CW7699\n 5  \t99.90 \t迪卡侬户外双肩背包男女休闲双肩包运动学生小书包轻便10L QUBP\n 6  \t149.00\t花花公子男士背包2020年新款商务电脑双肩包高中学生大容量书包\n 7  \t398.00\t安踏中国对背包男潮牌2020春季新款大容量书包学生旅行运动双肩包\n 8  \t398.00\tkipling男女大容量电脑背包2020年新款旅行包书包双肩包|BACKPACK\n 9  \t998.00\tFion/菲安妮休闲双肩包潮流学生书包 2020新款女包尼龙黑色旅行包\n 10 \t1098.00\tHerschel Dawson大号时尚双肩包 Surplus系列休闲背包书包10649\n 11 \t249.90\t迪卡侬旗舰店新款大容量双肩背包户外运动防水书包休闲男女TRD\n 12 \t219.00\tNIKE耐克双肩包男包女包2020春季新款户外运动包学生书包旅行背包\n 13 \t689.00\t背包双肩包男士商务旅行背包防盗电脑包休闲书包男多功能大旅游包\n 14 \t998.00\tHerschel Little America经典色旅游双肩包男女士背包书包10020\n 15 \t479.00\tFjallraven/瑞典北极狐双肩包kanken书包女电脑旅行背包官方23510\n 16 \t109.00\tPuma彪马男女运动包2020春季新款学生书包旅游休闲双肩背包075487\n 17 \t145.00\t不莱玫迪士尼合作款双肩包女韩版百搭可爱小书包ins潮酷旅行背包\n 18 \t139.00\t阿迪达斯双肩背包男包女包2020夏季新款运动电脑包学生书包FQ5261\n 19 \t288.00\tJanSport杰斯伯旗舰店双肩背包男高中背包书包休闲运动包4QUT77R\n 20 \t319.00\tNIKE耐克双肩包2020夏季新款男包女包学生书包运动包背包潮BA6097\n 21 \t175.00\t不莱玫迪士尼合作款书包女韩版高中百搭ins双肩包时尚可爱小背包\n 22 \t255.00\tViney双肩包包2020新款潮真皮时尚背包女大容量书包韩版百搭女包\n 23 \t899.00\t【买1送1】Fion/菲安妮大牌双肩包女 2020新款印花背包旅行书包\n 24 \t119.00\t特步男女双肩包2020夏季新款大容量书包百搭潮流男士女士运动背包\n 25 \t129.00\tSkechers斯凯奇2020春夏青少年男女童实用休闲双肩包书包L120K048\n 26 \t299.00\t【直营】Adidas双肩包男女CL AOP运动休闲舒适学生书包背包FM6896\n 27 \t179.00\t安踏双肩包2020男士旅行大容量时尚潮流高中初中学生书包运动背包\n 28 \t970.00\tGaston Luga瑞典潮牌背包男双肩包女大容量旅行包休闲书包电脑包\n 29 \t79.00 \t电脑包男双肩包商务笔记本背包男士大容量15.6寸旅行出差休闲书包\n 30 \t189.00\t阿迪达斯双肩包男女2020新款初中生高中学生书包大容量背包DT8638\n 31 \t438.00\ttigerfamily小学生书包1-3年级男女孩儿童书包减负护脊背包6周岁\n 32 \t358.00\tJanSport旗舰店官网双肩背包女电脑包男高中大学学生书包 3P6X47R\n 33 \t899.00\t挪威官方正品Beckmann小学生书包女男儿童护脊减压背包1-3年级\n 34 \t129.00\tuek小学生书包男孩女生一三五 六年级护脊双肩6-12岁轻便减压儿童\n 35 \t158.00\t安踏花木兰联名双肩包男女官网2020新款学生书包大容量运动旅行包\n 36 \t239.00\tHype双肩包女迷你小包百搭逛街用mini小背包ins风潮牌大学生书包\n 37 \t1169.00\tergobag德国儿童减负护脊护肩书包中小学生书包男女1-5年级\n 38 \t498.00\tTiger Family护脊减负书包 小学生3-5年级儿童女12周岁男童背包\n 39 \t178.00\t迪士尼小学生书包女童1-3-4一三年级冰雪奇缘女孩减负儿童双肩包6\n 40 \t219.00\tPUMA彪马双肩包男包女包2019新款运动包休闲背包学生书包074706\n 41 \t199.00\t瑞士军士刀双肩包男大容量休闲商务旅行电脑背包男士初中学生书包\n 42 \t129.00\t小米双肩包书包男女笔记本电脑包时尚潮流旅行背包\n 43 \t419.00\tFjallraven/北极狐双肩包kanken mini 迷你情侣书包背包女23561\n 44 \t115.00\tkk树书包小学生女孩6-12岁儿童一二三到六年级女童双肩包护脊减负\n 45 \t698.00\tkipling女大容量背包春夏新品时尚简约潮流休闲书包双肩包|MATTA\n 46 \t69.00 \t牛津布双肩包女2020新款潮韩版时尚百搭大学生书包旅行帆布小背包\n 47 \t389.00\t朱丹推荐诺狐书包小学生女孩一二三到六年级护脊减负儿童双肩背包\n 48 \t226.00\t真皮双肩包女2020年新款书包女百搭大容量头层牛皮女士软皮背包潮\n 49 \t149.00\t鳄鱼男士双肩包商务休闲电脑帆布背包旅游旅行包时尚潮流学生书包\n 50 \t226.00\t真皮双肩包女2020年新款书包女百搭大容量头层牛皮女士软皮背包潮\n 51 \t399.00\tFILA斐乐童装旗舰店儿童双肩包小学生书包男童女童低年级背包新款\n 52 \t149.00\tPUMA彪马双肩包2020夏季新款马卡龙初中高中学生书包运动包背包潮\n 53 \t899.00\t[2020新款]挪威Beckmann小学生书包女男儿童护脊减压背包1-3年级\n 54 \t589.00\t双肩包男士背包商务休闲旅行背包防盗旅游包女大中学生书包电脑包\n 55 \t229.00\t迪士尼商店 冰雪奇缘艾莎公主小学生书包儿童书包双肩包女童书包\n 56 \t219.00\tNIKE耐克双肩包男包女包官网旗舰高中初中运动包学生书包旅行背包\n 57 \t499.00\tSamsonite/新秀丽双肩包包2020新款 书包女ins风背包旅行包TQ4\n 58 \t175.00\t不莱玫2020新款迪士尼书包时尚复古ins风小背包女双肩包迷你小包\n 59 \t698.00\tHerschel Retreat春夏新色旅游双肩包男女士书包背包百搭10066\n 60 \t185.00\t不莱玫背包女双肩包韩版旅行包高中百搭大容量学生书包男时尚潮流\n 61 \t159.00\t安踏背包2020春季新款运动户外时尚男旅行包防水学生书包双肩包\n 62 \t288.00\t【新品】JanSport杰斯伯双肩包女学生书包男背包运动休闲背包4QUT\n 63 \t698.00\tHerschel Retreat经典色时尚潮流男女双肩包书包背包潮牌10066\n 64 \t669.00\tkipling女士帆布背包2020年新款时尚简约休闲潮流书包双肩包|ROSE\n 65 \t889.00\tkipling男女大容量电脑背包2020年新款时尚书包旅行双肩包|SEOUL\n 66 \t378.00\ttigerfamily儿童书包小学生一年级1-3 女男6岁耐磨减负护脊双肩包\n 67 \t258.00\t电视剧款JanSport杰斯伯双肩包包时尚潮女书包背包男大容量电脑包\n 68 \t139.00\t安踏背包休闲包 2020新款潮流休闲运动背包学生书包电脑包旅行包\n 69 \t479.00\tFjallraven/北极狐书包kanken双肩包女户外包运动背包男23510\n 70 \t299.00\tCHARLES＆KEITH女包CK2-80840173-1粗链条翻盖单肩情书包婚包\n 71 \t289.00\tViney双肩包女韩版百搭ins原宿大容量百搭背包书包时尚简约双肩包\n 72 \t299.00\t【直营】Adidas双肩包男女CL AOP运动休闲舒适学生书包背包FM6896\n 73 \t188.00\t迪士尼拉杆书包小学生女童3-6年级公主3轮爬楼女孩两用儿童双肩包\n 74 \t2598.00\t【亚洲限定款】天使之翼SEIBAN 日本保税护脊减负小学生粉色书包\n 75 \t616.00\tFILA斐乐童装双肩包小学生书包初中儿童背包3D护脊书包带反光条\n 76 \t699.00\t北极狐laptop笔记本电脑包13/15/17英寸男女手提双肩背包学生书包\n 77 \t408.00\tFILA斐乐小学生书包大容量男女童背包2020春新款儿童双肩包3M反光\n 78 \t188.00\t优仅ALLJOINT儿童书包可爱幼儿园双肩甜甜圈彩虹幼儿背包女童包包\n 79 \t103.50\t瑞士军刀双肩包男背包休闲商务旅行大容量瑞士书包高中生电脑男士\n 80 \t199.00\t小米双肩包商务旅行背包大容量书包男士时尚多功能笔记本电脑包\n 81 \t115.00\tKK剑桥树书包小学生男孩一二三到六年级儿童6-12岁男童双肩包减负\n 82 \t268.00\tBOPAI博牌电脑背包男户外旅行休闲双肩包商务书包出差多功能男包\n 83 \t168.00\t迪士尼小学生书包男童女童1-3-4一三四年级蜘蛛侠儿童减负双肩包6\n 84 \t209.00\tEVB新款双肩包女韩版潮电脑背包旅行运动初高中小大学生书包男\n 85 \t488.00\t香港tigerfamily小学生护脊书包 男女5-9年级初中学生减负双肩包\n 86 \t142.00\t七匹狼双肩包男大容量背包书包新款超大商务休闲旅行笔记本电脑包\n 87 \t599.00\tFion/菲安妮时尚潮流双肩包女 小怪兽可爱学生书包简约女士小背包\n 88 \t195.02\t国家地理背包女运动户外时尚双肩包男牛津布旅行防水学生情侣书包\n 89 \t798.00\tito双肩包男商务设计师电脑包女皮质背包书包ins韩版原宿ulzzang\n 90 \t149.00\t华为旗下荣耀亲选双肩包书包背包男女学生商务大学生大容量防水\n 91 \t229.00\t朱尔防盗双肩包女2020新款时尚牛津布女士背包百搭书包帆布女包包\n 92 \t499.00\tFION/菲安妮新款双肩包旅行包 女士印花背包青年防水名牌书包小包\n 93 \t239.00\tSkechers斯凯奇男女同款双肩背包书包LOGO刺绣运动休闲包L120U021\n 94 \t332.00\t迪士尼商店 唐老鸭85周年背包超萌可爱双肩包儿童书包小学生背包\n 95 \t149.00\t小米 米兔儿童书包 6-12岁男女小学生潮双肩背包幼儿园大容量背包\n 96 \t109.00\tbabycare宝宝入园书包婴 幼儿园小书包3岁男女儿童防走失背包可爱\n 97 \t299.00\tViney真皮双肩包2020年新款韩版百搭书包韩版原宿ulzzang双肩背包\n 98 \t408.00\t李宁CF溯系列双肩包敦煌拓男包女包2020新款学生书包运动包\n 99 \t290.00\tSamsonite/新秀丽儿童背包可爱卡通动物造型学生书包3D双肩包 U22\n100 \t139.00\t花花公子男士双肩包时尚潮流个性大学生书包休闲旅行电脑迷彩背包\n101 \t149.00\t爱果乐小学生书包女三四五六年级护脊减负儿童男双肩背包6-12岁\n102 \t2180.00\tFREITAG F49 FRINGE 双肩包 旅行背包书包 瑞士环保潮流包\n103 \t149.00\tPUMA彪马背包2020新款女包双肩包拎包休闲小包PU小书包076960-02\n104 \t59.80 \t儿童书包小学生男女一二三到六年级韩版减负护脊贵族书包轻便防水\n105 \t249.00\tNike耐克2020年新款Tanjun儿童双肩背包男女休闲书包手提包拎包\n106 \t149.00\tuek小学生书包男童一二三到六年级女童双肩背包轻便可爱儿童书包\n107 \t139.00\t瑞士军士刀双肩包男大容量瑞士军刀旅行电脑背包男士初中学生书包\n108 \t139.00\t阿迪达斯学生书包男女包初中高中大学生电脑包运动双肩背包FI7968\n109 \t299.00\tuek小学生书包女一三五年级轻便女童背包护脊可爱女孩公主双肩包\n110 \t178.00\t书包ins韩版原宿ulzzang初中高中大学生百搭森系背包网红双肩包女\n111 \t498.00\tHerschel City中号校园双肩包男书包背包潮牌女 ins 百搭10486\n112 \t598.00\tHerschel Dawson 双肩包男书包女ins风潮牌街头背包欧美10233\n113 \t869.00\tkipling男女大容量电脑包2020新款时尚书包旅行包双肩包|SO BABY\n114 \t175.00\t不莱玫迪士尼米奇双肩包新款韩版高中复古背包大容量学生帆布书包\n115 \t288.00\tJanSport杰斯伯旗舰店双肩包女电脑包男书包学生休闲包47LW79M\n116 \t258.00\tJanSport旗舰店官网杰斯伯双肩包女学生书包纯色男士女士背包T501\n117 \t98.00 \t迪士尼小学生书包女童1-3-4三四年级冰雪奇缘女孩儿童减负双肩包6\n118 \t78.00 \t凯蒂猫书包小学生女童一二三六年级女孩减负轻便儿童休闲双肩背包\n119 \t139.00\t安踏双肩包男包2020背包男士时尚潮流旅行包休闲高中大学生书包\n120 \t398.00\t安踏中国英雄双肩包潮牌街头嘻哈情侣双肩包男女时尚潮流书包背包\n121 \t990.00\tkipling女士背包春夏新款时尚简约休闲潮流书包双肩包|DELIA MINI\n122 \t299.90\t迪卡侬休闲旅行包出差大容量户外防雨罩男女书包登山包双肩包FOR3\n123 \t149.00\t阿迪达斯双肩包男女2020新款初中生高中学生书包大容量背包DT4825\n124 \t86.00 \t迪士尼书包男小学生1-3-6三到六4年级儿童双肩护脊减负轻便背包女\n125 \t499.00\t日本进口卡芙露书包小学生1-3年级6儿童轻便减负护脊男女双肩背包\n126 \t249.00\t90分牛津帆布包休闲双肩包男时尚潮流背包书包男女韩版百搭电脑包\n127 \t1588.00\t【GPS定位】英国AnythingStudio小学生书包 儿童女进口英伦日本风\n128 \t1079.00\t【直营】比利时jeune premier小学生男女孩大容量防水进口书包\n129 \t189.00\tuek书包小学生男童女孩1-3-5一年级儿童书包男6-12岁轻便双肩背包\n130 \t115.00\tkk树书包小学生男孩1-3-4-5年级儿童背包女孩6-12周岁双肩包护脊\n131 \t69.90 \t大脸兔牛津布双肩包女2020新款韩版尼龙百搭旅行防水超轻背包书包\n132 \t165.00\tkk树小学生拉杆书包1-3-6年级女童6-12周岁儿童公主防水轻便背包\n133 \t498.00\tito双肩包男商务设计师电脑包14寸女潮流书包ins风小背包时尚百搭\n134 \t118.00\t可优比儿童背包防走丢失带包宝宝书包1-3岁幼儿园书包男女童包包\n135 \t219.00\tAdidas阿迪达斯书包女2020新款粉色运动背包初高中学生双肩包女包\n136 \t289.00\tuek儿童书包女小学生一二年级轻便女孩四五年级可爱女生双肩背包\n"
    }
   ],
   "source": [
    "printGoodList(info_list)"
   ]
  },
  {
   "cell_type": "code",
   "execution_count": null,
   "metadata": {},
   "outputs": [],
   "source": []
  }
 ],
 "metadata": {
  "language_info": {
   "codemirror_mode": {
    "name": "ipython",
    "version": 3
   },
   "file_extension": ".py",
   "mimetype": "text/x-python",
   "name": "python",
   "nbconvert_exporter": "python",
   "pygments_lexer": "ipython3",
   "version": "3.8.1-final"
  },
  "orig_nbformat": 2,
  "kernelspec": {
   "name": "python3",
   "display_name": "Python 3"
  }
 },
 "nbformat": 4,
 "nbformat_minor": 2
}