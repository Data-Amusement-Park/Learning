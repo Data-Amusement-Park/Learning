{
 "cells": [
  {
   "cell_type": "markdown",
   "metadata": {
    "toc": true
   },
   "source": [
    "<h1>Task2-bs4<span class=\"tocSkip\"></span></h1>\n",
    "<div class=\"toc\"><ul class=\"toc-item\"><li><span><a href=\"#1-beautifulsoup解析HTML页面介绍\" data-toc-modified-id=\"1-beautifulsoup解析HTML页面介绍-1\">1 beautifulsoup解析HTML页面介绍</a></span></li><li><span><a href=\"#2-Beautiful-Soup库的基本元素\" data-toc-modified-id=\"2-Beautiful-Soup库的基本元素-2\">2 Beautiful Soup库的基本元素</a></span><ul class=\"toc-item\"><li><span><a href=\"#2.0-抓取网页\" data-toc-modified-id=\"2.0-抓取网页-2.1\">2.0 抓取网页</a></span></li><li><span><a href=\"#2.1-标签，用soup.访问获得:\" data-toc-modified-id=\"2.1-标签，用soup.访问获得:-2.2\">2.1 标签，用soup.访问获得:</a></span></li><li><span><a href=\"#2.2-标签的名字\" data-toc-modified-id=\"2.2-标签的名字-2.3\">2.2 标签的名字</a></span></li><li><span><a href=\"#2.3-标签的属性\" data-toc-modified-id=\"2.3-标签的属性-2.4\">2.3 标签的属性</a></span></li><li><span><a href=\"#2.4-Attributes\" data-toc-modified-id=\"2.4-Attributes-2.5\">2.4 Attributes</a></span></li><li><span><a href=\"#2.5-NavigableString\" data-toc-modified-id=\"2.5-NavigableString-2.6\">2.5 NavigableString</a></span></li><li><span><a href=\"#2.6-.prettify()为HTML文本<>及其内容增加更加'\\n',有层次感的输出\" data-toc-modified-id=\"2.6-.prettify()为HTML文本<>及其内容增加更加'\\n',有层次感的输出-2.7\">2.6 .prettify()为HTML文本&lt;&gt;及其内容增加更加'\\n',有层次感的输出</a></span></li><li><span><a href=\"#2.7-bs4库将任何HTML输入都变成utf‐8编码\" data-toc-modified-id=\"2.7-bs4库将任何HTML输入都变成utf‐8编码-2.8\">2.7 bs4库将任何HTML输入都变成utf‐8编码</a></span></li></ul></li><li><span><a href=\"#3--基于bs4库的HTML内容遍历方法\" data-toc-modified-id=\"3--基于bs4库的HTML内容遍历方法-3\">3  基于bs4库的HTML内容遍历方法</a></span><ul class=\"toc-item\"><li><span><a href=\"#3.1-标签树的下行遍历\" data-toc-modified-id=\"3.1-标签树的下行遍历-3.1\">3.1 标签树的下行遍历</a></span></li><li><span><a href=\"#3.2-标签树的上行遍历\" data-toc-modified-id=\"3.2-标签树的上行遍历-3.2\">3.2 标签树的上行遍历</a></span></li><li><span><a href=\"#3.3-标签树的平行遍历\" data-toc-modified-id=\"3.3-标签树的平行遍历-3.3\">3.3 标签树的平行遍历</a></span></li></ul></li><li><span><a href=\"#4-基于bs4库的HTML内容的查找方法\" data-toc-modified-id=\"4-基于bs4库的HTML内容的查找方法-4\">4 基于bs4库的HTML内容的查找方法</a></span></li><li><span><a href=\"#5-实战：中国大学排名定向爬取\" data-toc-modified-id=\"5-实战：中国大学排名定向爬取-5\">5 实战：中国大学排名定向爬取</a></span><ul class=\"toc-item\"><li><span><a href=\"#5.1.-从网络上获取大学排名网页内容\" data-toc-modified-id=\"5.1.-从网络上获取大学排名网页内容-5.1\">5.1. 从网络上获取大学排名网页内容</a></span></li><li><span><a href=\"#5.2.-提取网页内容中信息到合适的数据结构（二维数组）\" data-toc-modified-id=\"5.2.-提取网页内容中信息到合适的数据结构（二维数组）-5.2\">5.2. 提取网页内容中信息到合适的数据结构（二维数组）</a></span></li><li><span><a href=\"#5.3.-利用数据结构展示并输出结果\" data-toc-modified-id=\"5.3.-利用数据结构展示并输出结果-5.3\">5.3. 利用数据结构展示并输出结果</a></span></li></ul></li></ul></div>"
   ]
  },
  {
   "cell_type": "markdown",
   "metadata": {},
   "source": [
    "# task2-bs4\n",
    "Beautiful Soup库"
   ]
  },
  {
   "cell_type": "markdown",
   "metadata": {},
   "source": [
    "## 1 beautifulsoup解析HTML页面介绍\n",
    "\n",
    "* 介绍\n",
    "\n",
    "    - Beautiful Soup 是一个HTML/XML 的解析器，主要用于解析和提取 HTML/XML 数据。 \n",
    "    - 它基于HTML DOM 的，会载入整个文档，解析整个DOM树，因此时间和内存开销都会大很多，所以性能要低于lxml。 \n",
    "    - BeautifulSoup 用来解析 HTML 比较简单，API非常人性化，支持CSS选择器、Python标准库中的HTML解析器，也支持 lxml 的 XML解析器。\n",
    "    - 虽然说BeautifulSoup4 简单容易比较上手，但是匹配效率还是远远不如正则以及xpath的，一般不推荐使用，推荐正则的使用。\n",
    " \n",
    "\n",
    "- 安装: pip install beautifulsoup4\n",
    "\n",
    "- 导入: from bs4 import BeautifulSoup\n",
    "\n",
    "- 创建 Beautiful Soup对象: soup = BeautifulSoup(html，'html.parser') \n"
   ]
  },
  {
   "cell_type": "markdown",
   "metadata": {},
   "source": [
    "## 2 Beautiful Soup库的基本元素\n",
    "\n",
    "* Beautiful Soup库的理解：\n",
    "    Beautiful Soup库是解析、遍历、维护“标签树”的功能库，对应一个HTML/XML文档的全部内容\n",
    "\n",
    "* BeautifulSoup类的基本元素:\n",
    "    \n",
    "    - `Tag 标签，最基本的信息组织单元，分别用<>和</>标明开头和结尾；`\n",
    "    - `Name 标签的名字，<p>…</p>的名字是'p'，格式：<tag>.name;`\n",
    "    - `Attributes 标签的属性，字典形式组织，格式：<tag>.attrs;`\n",
    "    - `NavigableString 标签内非属性字符串，<>…</>中字符串，格式：<tag>.string;`\n",
    "    - `Comment 标签内字符串的注释部分，一种特殊的Comment类型;`"
   ]
  },
  {
   "cell_type": "markdown",
   "metadata": {},
   "source": [
    "### 2.0 抓取网页"
   ]
  },
  {
   "cell_type": "code",
   "execution_count": 1,
   "metadata": {},
   "outputs": [
    {
     "data": {
      "text/plain": [
       "'<html><head><title>This is a python demo page</title></head>\\r\\n<body>\\r\\n<p class=\"title\"><b>The demo python introduces several python courses.</b></p>\\r\\n<p class=\"course\">Python is a wonderful general-purpose programming language. You can learn Python from novice to professional by tracking the following courses:\\r\\n<a href=\"http://www.icourse163.org/course/BIT-268001\" class=\"py1\" id=\"link1\">Basic Python</a> and <a href=\"http://www.icourse163.org/course/BIT-1001870001\" class=\"py2\" id=\"link2\">Advanced Python</a>.</p>\\r\\n</body></html>'"
      ]
     },
     "execution_count": 1,
     "metadata": {},
     "output_type": "execute_result"
    }
   ],
   "source": [
    "# 导入bs4库\n",
    "from bs4 import BeautifulSoup\n",
    "import requests # 抓取页面\n",
    "\n",
    "r = requests.get('https://python123.io/ws/demo.html') # Demo网址\n",
    "demo = r.text  # 抓取的数据\n",
    "demo"
   ]
  },
  {
   "cell_type": "code",
   "execution_count": 2,
   "metadata": {},
   "outputs": [
    {
     "name": "stdout",
     "output_type": "stream",
     "text": [
      "<html>\n",
      " <head>\n",
      "  <title>\n",
      "   This is a python demo page\n",
      "  </title>\n",
      " </head>\n",
      " <body>\n",
      "  <p class=\"title\">\n",
      "   <b>\n",
      "    The demo python introduces several python courses.\n",
      "   </b>\n",
      "  </p>\n",
      "  <p class=\"course\">\n",
      "   Python is a wonderful general-purpose programming language. You can learn Python from novice to professional by tracking the following courses:\n",
      "   <a class=\"py1\" href=\"http://www.icourse163.org/course/BIT-268001\" id=\"link1\">\n",
      "    Basic Python\n",
      "   </a>\n",
      "   and\n",
      "   <a class=\"py2\" href=\"http://www.icourse163.org/course/BIT-1001870001\" id=\"link2\">\n",
      "    Advanced Python\n",
      "   </a>\n",
      "   .\n",
      "  </p>\n",
      " </body>\n",
      "</html>\n"
     ]
    }
   ],
   "source": [
    "# 解析HTML页面\n",
    "soup = BeautifulSoup(demo, 'html.parser')  # 抓取的页面数据；bs4的解析器\n",
    "# 有层次感的输出解析后的HTML页面\n",
    "print(soup.prettify())"
   ]
  },
  {
   "cell_type": "markdown",
   "metadata": {},
   "source": [
    "###  2.1 标签，用soup.<tag>访问获得:\n",
    "- 当HTML文档中存在多个相同<tag>对应内容时，soup.<tag>返回第一个`"
   ]
  },
  {
   "cell_type": "code",
   "execution_count": 3,
   "metadata": {},
   "outputs": [
    {
     "data": {
      "text/plain": [
       "<a class=\"py1\" href=\"http://www.icourse163.org/course/BIT-268001\" id=\"link1\">Basic Python</a>"
      ]
     },
     "execution_count": 3,
     "metadata": {},
     "output_type": "execute_result"
    }
   ],
   "source": [
    "soup.a # 访问标签a"
   ]
  },
  {
   "cell_type": "code",
   "execution_count": 4,
   "metadata": {},
   "outputs": [
    {
     "data": {
      "text/plain": [
       "<title>This is a python demo page</title>"
      ]
     },
     "execution_count": 4,
     "metadata": {},
     "output_type": "execute_result"
    }
   ],
   "source": [
    "soup.title"
   ]
  },
  {
   "cell_type": "markdown",
   "metadata": {},
   "source": [
    "### 2.2 标签的名字\n",
    "* 每个<tag>都有自己的名字，通过soup.<tag>.name获取，字符串类型"
   ]
  },
  {
   "cell_type": "code",
   "execution_count": 5,
   "metadata": {},
   "outputs": [
    {
     "data": {
      "text/plain": [
       "'a'"
      ]
     },
     "execution_count": 5,
     "metadata": {},
     "output_type": "execute_result"
    }
   ],
   "source": [
    "soup.a.name"
   ]
  },
  {
   "cell_type": "code",
   "execution_count": 6,
   "metadata": {},
   "outputs": [
    {
     "data": {
      "text/plain": [
       "'p'"
      ]
     },
     "execution_count": 6,
     "metadata": {},
     "output_type": "execute_result"
    }
   ],
   "source": [
    "soup.a.parent.name"
   ]
  },
  {
   "cell_type": "code",
   "execution_count": 7,
   "metadata": {},
   "outputs": [
    {
     "data": {
      "text/plain": [
       "'body'"
      ]
     },
     "execution_count": 7,
     "metadata": {},
     "output_type": "execute_result"
    }
   ],
   "source": [
    "soup.p.parent.name"
   ]
  },
  {
   "cell_type": "markdown",
   "metadata": {},
   "source": [
    "### 2.3 标签的属性\n",
    "* 一个<tag>可以有0或多个属性，字典类型,soup.<tag>.attrs"
   ]
  },
  {
   "cell_type": "code",
   "execution_count": 8,
   "metadata": {},
   "outputs": [
    {
     "name": "stdout",
     "output_type": "stream",
     "text": [
      "{'href': 'http://www.icourse163.org/course/BIT-268001', 'class': ['py1'], 'id': 'link1'}\n",
      "['py1']\n",
      "<class 'dict'>\n"
     ]
    }
   ],
   "source": [
    "tag = soup.a\n",
    "print(tag.attrs)\n",
    "print(tag.attrs['class'])\n",
    "print(type(tag.attrs))"
   ]
  },
  {
   "cell_type": "markdown",
   "metadata": {},
   "source": [
    "### 2.4 Attributes\n",
    "* 标签内非属性字符串,格式：soup.<tag>.string, NavigableString可以跨越多个层次"
   ]
  },
  {
   "cell_type": "code",
   "execution_count": 9,
   "metadata": {},
   "outputs": [
    {
     "name": "stdout",
     "output_type": "stream",
     "text": [
      "Basic Python\n",
      "<class 'bs4.element.NavigableString'>\n"
     ]
    }
   ],
   "source": [
    "print(soup.a.string)\n",
    "print(type(soup.a.string))"
   ]
  },
  {
   "cell_type": "markdown",
   "metadata": {},
   "source": [
    "### 2.5 NavigableString\n",
    "* 翻译：通航字符串\n",
    "* 标签内字符串的注释部分，Comment是一种特殊类型(有-->)"
   ]
  },
  {
   "cell_type": "code",
   "execution_count": 10,
   "metadata": {},
   "outputs": [
    {
     "name": "stdout",
     "output_type": "stream",
     "text": [
      "<class 'bs4.element.NavigableString'>\n"
     ]
    }
   ],
   "source": [
    "print(type(soup.p.string))"
   ]
  },
  {
   "cell_type": "markdown",
   "metadata": {},
   "source": [
    "### 2.6 .prettify()为HTML文本<>及其内容增加更加'\\n',有层次感的输出\n",
    "* .prettify()可用于标签，方法：`<tag>`.prettify()"
   ]
  },
  {
   "cell_type": "code",
   "execution_count": 11,
   "metadata": {},
   "outputs": [
    {
     "name": "stdout",
     "output_type": "stream",
     "text": [
      "<html>\n",
      " <head>\n",
      "  <title>\n",
      "   This is a python demo page\n",
      "  </title>\n",
      " </head>\n",
      " <body>\n",
      "  <p class=\"title\">\n",
      "   <b>\n",
      "    The demo python introduces several python courses.\n",
      "   </b>\n",
      "  </p>\n",
      "  <p class=\"course\">\n",
      "   Python is a wonderful general-purpose programming language. You can learn Python from novice to professional by tracking the following courses:\n",
      "   <a class=\"py1\" href=\"http://www.icourse163.org/course/BIT-268001\" id=\"link1\">\n",
      "    Basic Python\n",
      "   </a>\n",
      "   and\n",
      "   <a class=\"py2\" href=\"http://www.icourse163.org/course/BIT-1001870001\" id=\"link2\">\n",
      "    Advanced Python\n",
      "   </a>\n",
      "   .\n",
      "  </p>\n",
      " </body>\n",
      "</html>\n"
     ]
    }
   ],
   "source": [
    "print(soup.prettify())\n"
   ]
  },
  {
   "cell_type": "code",
   "execution_count": 12,
   "metadata": {},
   "outputs": [
    {
     "name": "stdout",
     "output_type": "stream",
     "text": [
      "<a class=\"py1\" href=\"http://www.icourse163.org/course/BIT-268001\" id=\"link1\">\n",
      " Basic Python\n",
      "</a>\n",
      "\n"
     ]
    }
   ],
   "source": [
    "print(soup.a.prettify())"
   ]
  },
  {
   "cell_type": "markdown",
   "metadata": {},
   "source": [
    "### 2.7 bs4库将任何HTML输入都变成utf‐8编码\n",
    "* Python 3.x默认支持编码是utf‐8,解析无障碍"
   ]
  },
  {
   "cell_type": "code",
   "execution_count": 13,
   "metadata": {},
   "outputs": [
    {
     "name": "stdout",
     "output_type": "stream",
     "text": [
      "<a>\n",
      " 中文\n",
      "</a>\n"
     ]
    }
   ],
   "source": [
    "newsoup = BeautifulSoup('<a>中文</a>', 'html.parser')\n",
    "print(newsoup.prettify())"
   ]
  },
  {
   "cell_type": "markdown",
   "metadata": {},
   "source": [
    "## 3  基于bs4库的HTML内容遍历方法\n",
    "HTML基本格式:`<>…</>`构成了所属关系，形成了标签的树形结构\n",
    "- 标签树的下行遍历\n",
    "    * .contents 子节点的列表，将`<tag>`所有儿子节点存入列表\n",
    "    * .children 子节点的迭代类型，与.contents类似，用于循环遍历儿子节点\n",
    "    * .descendants 子孙节点的迭代类型，包含所有子孙节点，用于循环遍历\n",
    "- 标签树的上行遍\n",
    "    * .parent 节点的父亲标签\n",
    "    * .parents 节点先辈标签的迭代类型，用于循环遍历先辈节点\n",
    "- 标签树的平行遍历\n",
    "    * .next_sibling 返回按照HTML文本顺序的下一个平行节点标签\n",
    "    * .previous_sibling 返回按照HTML文本顺序的上一个平行节点标签\n",
    "    * .next_siblings 迭代类型，返回按照HTML文本顺序的后续所有平行节点标签\n",
    "    * .previous_siblings 迭代类型，返回按照HTML文本顺序的前续所有平行节点标签\n",
    "* 详见：https://www.cnblogs.com/mengxiaoleng/p/11585754.html#_label0 "
   ]
  },
  {
   "cell_type": "markdown",
   "metadata": {},
   "source": [
    "### 3.1 标签树的下行遍历"
   ]
  },
  {
   "cell_type": "code",
   "execution_count": 14,
   "metadata": {},
   "outputs": [],
   "source": [
    "import requests\n",
    "from bs4 import BeautifulSoup\n",
    "\n",
    "r=requests.get('http://python123.io/ws/demo.html')\n",
    "demo=r.text\n",
    "soup=BeautifulSoup(demo,'html.parser')"
   ]
  },
  {
   "cell_type": "code",
   "execution_count": 15,
   "metadata": {},
   "outputs": [
    {
     "name": "stdout",
     "output_type": "stream",
     "text": [
      "[<html><head><title>This is a python demo page</title></head>\n",
      "<body>\n",
      "<p class=\"title\"><b>The demo python introduces several python courses.</b></p>\n",
      "<p class=\"course\">Python is a wonderful general-purpose programming language. You can learn Python from novice to professional by tracking the following courses:\n",
      "<a class=\"py1\" href=\"http://www.icourse163.org/course/BIT-268001\" id=\"link1\">Basic Python</a> and <a class=\"py2\" href=\"http://www.icourse163.org/course/BIT-1001870001\" id=\"link2\">Advanced Python</a>.</p>\n",
      "</body></html>]\n"
     ]
    }
   ],
   "source": [
    "print(soup.contents)# 获取整个标签树的儿子节点"
   ]
  },
  {
   "cell_type": "code",
   "execution_count": 16,
   "metadata": {},
   "outputs": [
    {
     "name": "stdout",
     "output_type": "stream",
     "text": [
      "None\n"
     ]
    }
   ],
   "source": [
    "print(soup.body.content)#返回标签树的body标签下的节点"
   ]
  },
  {
   "cell_type": "code",
   "execution_count": 17,
   "metadata": {},
   "outputs": [
    {
     "name": "stdout",
     "output_type": "stream",
     "text": [
      "<head><title>This is a python demo page</title></head>\n"
     ]
    }
   ],
   "source": [
    "print(soup.head)#返回head标签"
   ]
  },
  {
   "cell_type": "code",
   "execution_count": 18,
   "metadata": {},
   "outputs": [
    {
     "name": "stdout",
     "output_type": "stream",
     "text": [
      "\n",
      "\n",
      "<p class=\"title\"><b>The demo python introduces several python courses.</b></p>\n",
      "\n",
      "\n",
      "<p class=\"course\">Python is a wonderful general-purpose programming language. You can learn Python from novice to professional by tracking the following courses:\n",
      "<a class=\"py1\" href=\"http://www.icourse163.org/course/BIT-268001\" id=\"link1\">Basic Python</a> and <a class=\"py2\" href=\"http://www.icourse163.org/course/BIT-1001870001\" id=\"link2\">Advanced Python</a>.</p>\n",
      "\n",
      "\n"
     ]
    }
   ],
   "source": [
    "for child in soup.body.children:#遍历儿子节点\n",
    "    print(child)"
   ]
  },
  {
   "cell_type": "code",
   "execution_count": 19,
   "metadata": {},
   "outputs": [
    {
     "name": "stdout",
     "output_type": "stream",
     "text": [
      "\n",
      "\n",
      "<p class=\"title\"><b>The demo python introduces several python courses.</b></p>\n",
      "<b>The demo python introduces several python courses.</b>\n",
      "The demo python introduces several python courses.\n",
      "\n",
      "\n",
      "<p class=\"course\">Python is a wonderful general-purpose programming language. You can learn Python from novice to professional by tracking the following courses:\n",
      "<a class=\"py1\" href=\"http://www.icourse163.org/course/BIT-268001\" id=\"link1\">Basic Python</a> and <a class=\"py2\" href=\"http://www.icourse163.org/course/BIT-1001870001\" id=\"link2\">Advanced Python</a>.</p>\n",
      "Python is a wonderful general-purpose programming language. You can learn Python from novice to professional by tracking the following courses:\n",
      "\n",
      "<a class=\"py1\" href=\"http://www.icourse163.org/course/BIT-268001\" id=\"link1\">Basic Python</a>\n",
      "Basic Python\n",
      " and \n",
      "<a class=\"py2\" href=\"http://www.icourse163.org/course/BIT-1001870001\" id=\"link2\">Advanced Python</a>\n",
      "Advanced Python\n",
      ".\n",
      "\n",
      "\n"
     ]
    }
   ],
   "source": [
    "for child in soup.body.descendants:#遍历子孙节点\n",
    "    print(child)"
   ]
  },
  {
   "cell_type": "markdown",
   "metadata": {},
   "source": [
    "### 3.2 标签树的上行遍历"
   ]
  },
  {
   "cell_type": "code",
   "execution_count": 20,
   "metadata": {},
   "outputs": [
    {
     "data": {
      "text/plain": [
       "<head><title>This is a python demo page</title></head>"
      ]
     },
     "execution_count": 20,
     "metadata": {},
     "output_type": "execute_result"
    }
   ],
   "source": [
    "soup.title.parent"
   ]
  },
  {
   "cell_type": "code",
   "execution_count": 21,
   "metadata": {},
   "outputs": [],
   "source": [
    "soup.parent"
   ]
  },
  {
   "cell_type": "code",
   "execution_count": 22,
   "metadata": {},
   "outputs": [
    {
     "name": "stdout",
     "output_type": "stream",
     "text": [
      "p\n",
      "body\n",
      "html\n",
      "[document]\n"
     ]
    }
   ],
   "source": [
    "for parent in soup.a.parents: # 遍历先辈的信息\n",
    "    if parent is None:\n",
    "        print(parent)\n",
    "    else:\n",
    "        print(parent.name)"
   ]
  },
  {
   "cell_type": "markdown",
   "metadata": {},
   "source": [
    "### 3.3 标签树的平行遍历\n",
    "注意：\n",
    "- 标签树的平行遍历是有条件的\n",
    "- 平行遍历发生在同一个父亲节点的各节点之间\n",
    "- 标签中的内容也构成了节点"
   ]
  },
  {
   "cell_type": "code",
   "execution_count": 23,
   "metadata": {},
   "outputs": [
    {
     "name": "stdout",
     "output_type": "stream",
     "text": [
      "and \n"
     ]
    }
   ],
   "source": [
    "print(soup.a.next_sibling)#a标签的下一个标签"
   ]
  },
  {
   "cell_type": "code",
   "execution_count": 24,
   "metadata": {},
   "outputs": [
    {
     "name": "stdout",
     "output_type": "stream",
     "text": [
      "<a class=\"py2\" href=\"http://www.icourse163.org/course/BIT-1001870001\" id=\"link2\">Advanced Python</a>\n"
     ]
    }
   ],
   "source": [
    "print(soup.a.next_sibling.next_sibling)#a标签的下一个标签的下一个标签"
   ]
  },
  {
   "cell_type": "code",
   "execution_count": 25,
   "metadata": {},
   "outputs": [
    {
     "name": "stdout",
     "output_type": "stream",
     "text": [
      "Python is a wonderful general-purpose programming language. You can learn Python from novice to professional by tracking the following courses:\n",
      "\n"
     ]
    }
   ],
   "source": [
    "print(soup.a.previous_sibling)#a标签的前一个标签"
   ]
  },
  {
   "cell_type": "code",
   "execution_count": 26,
   "metadata": {},
   "outputs": [
    {
     "name": "stdout",
     "output_type": "stream",
     "text": [
      "None\n"
     ]
    }
   ],
   "source": [
    "print(soup.a.previous_sibling.previous_sibling)#a标签的前一个标签的前一个标签"
   ]
  },
  {
   "cell_type": "code",
   "execution_count": 27,
   "metadata": {},
   "outputs": [
    {
     "name": "stdout",
     "output_type": "stream",
     "text": [
      "and \n",
      "<a class=\"py2\" href=\"http://www.icourse163.org/course/BIT-1001870001\" id=\"link2\">Advanced Python</a>\n",
      ".\n"
     ]
    }
   ],
   "source": [
    "for sibling in soup.a.next_siblings:#遍历后续节点\n",
    "    print(sibling)"
   ]
  },
  {
   "cell_type": "code",
   "execution_count": 28,
   "metadata": {},
   "outputs": [
    {
     "name": "stdout",
     "output_type": "stream",
     "text": [
      "Python is a wonderful general-purpose programming language. You can learn Python from novice to professional by tracking the following courses:\n",
      "\n"
     ]
    }
   ],
   "source": [
    "for sibling in soup.a.previous_siblings:#遍历之前的节点\n",
    "    print(sibling)"
   ]
  },
  {
   "cell_type": "markdown",
   "metadata": {},
   "source": [
    "## 4 基于bs4库的HTML内容的查找方法\n",
    "- <>.find_all(name, attrs, recursive, string, **kwargs) \n",
    "    - 参数：\n",
    "    - ∙ name : 对标签名称的检索字符串\n",
    "    - ∙ attrs: 对标签属性值的检索字符串，可标注属性检索\n",
    "    - ∙ recursive: 是否对子孙全部检索，默认True\n",
    "    - ∙ string: <>…</>中字符串区域的检索字符串\n",
    "        - 简写：\n",
    "        - `<tag>`(..) 等价于 `<tag>`.find_all(..)\n",
    "        - soup(..) 等价于 soup.find_all(..)\n",
    "- 扩展方法：\n",
    "    - <>.find() 搜索且只返回一个结果，同.find_all()参数\n",
    "    - <>.find_parents() 在先辈节点中搜索，返回列表类型，同.find_all()参数\n",
    "    - <>.find_parent() 在先辈节点中返回一个结果，同.find()参数\n",
    "    - <>.find_next_siblings() 在后续平行节点中搜索，返回列表类型，同.find_all()参数\n",
    "    - <>.find_next_sibling() 在后续平行节点中返回一个结果，同.find()参数\n",
    "    - <>.find_previous_siblings() 在前序平行节点中搜索，返回列表类型，同.find_all()参数\n",
    "    - <>.find_previous_sibling() 在前序平行节点中返回一个结果，同.find()参数"
   ]
  },
  {
   "cell_type": "code",
   "execution_count": 29,
   "metadata": {},
   "outputs": [
    {
     "data": {
      "text/plain": [
       "<html><head><title>This is a python demo page</title></head>\n",
       "<body>\n",
       "<p class=\"title\"><b>The demo python introduces several python courses.</b></p>\n",
       "<p class=\"course\">Python is a wonderful general-purpose programming language. You can learn Python from novice to professional by tracking the following courses:\n",
       "<a class=\"py1\" href=\"http://www.icourse163.org/course/BIT-268001\" id=\"link1\">Basic Python</a> and <a class=\"py2\" href=\"http://www.icourse163.org/course/BIT-1001870001\" id=\"link2\">Advanced Python</a>.</p>\n",
       "</body></html>"
      ]
     },
     "execution_count": 29,
     "metadata": {},
     "output_type": "execute_result"
    }
   ],
   "source": [
    "import requests\n",
    "from bs4 import BeautifulSoup\n",
    "\n",
    "r = requests.get('http://python123.io/ws/demo.html')\n",
    "demo = r.text\n",
    "soup = BeautifulSoup(demo,'html.parser')\n",
    "soup"
   ]
  },
  {
   "cell_type": "code",
   "execution_count": 30,
   "metadata": {},
   "outputs": [
    {
     "data": {
      "text/plain": [
       "[<a class=\"py1\" href=\"http://www.icourse163.org/course/BIT-268001\" id=\"link1\">Basic Python</a>,\n",
       " <a class=\"py2\" href=\"http://www.icourse163.org/course/BIT-1001870001\" id=\"link2\">Advanced Python</a>]"
      ]
     },
     "execution_count": 30,
     "metadata": {},
     "output_type": "execute_result"
    }
   ],
   "source": [
    "# name : 对标签名称的检索字符串\n",
    "soup.find_all('a')"
   ]
  },
  {
   "cell_type": "code",
   "execution_count": 31,
   "metadata": {},
   "outputs": [
    {
     "data": {
      "text/plain": [
       "[<p class=\"title\"><b>The demo python introduces several python courses.</b></p>,\n",
       " <p class=\"course\">Python is a wonderful general-purpose programming language. You can learn Python from novice to professional by tracking the following courses:\n",
       " <a class=\"py1\" href=\"http://www.icourse163.org/course/BIT-268001\" id=\"link1\">Basic Python</a> and <a class=\"py2\" href=\"http://www.icourse163.org/course/BIT-1001870001\" id=\"link2\">Advanced Python</a>.</p>,\n",
       " <a class=\"py1\" href=\"http://www.icourse163.org/course/BIT-268001\" id=\"link1\">Basic Python</a>,\n",
       " <a class=\"py2\" href=\"http://www.icourse163.org/course/BIT-1001870001\" id=\"link2\">Advanced Python</a>]"
      ]
     },
     "execution_count": 31,
     "metadata": {},
     "output_type": "execute_result"
    }
   ],
   "source": [
    "soup.find_all(['a', 'p'])"
   ]
  },
  {
   "cell_type": "code",
   "execution_count": 32,
   "metadata": {},
   "outputs": [
    {
     "data": {
      "text/plain": [
       "[<p class=\"course\">Python is a wonderful general-purpose programming language. You can learn Python from novice to professional by tracking the following courses:\n",
       " <a class=\"py1\" href=\"http://www.icourse163.org/course/BIT-268001\" id=\"link1\">Basic Python</a> and <a class=\"py2\" href=\"http://www.icourse163.org/course/BIT-1001870001\" id=\"link2\">Advanced Python</a>.</p>]"
      ]
     },
     "execution_count": 32,
     "metadata": {},
     "output_type": "execute_result"
    }
   ],
   "source": [
    "# attrs: 对标签属性值的检索字符串，可标注属性检索\n",
    "soup.find_all(\"p\",\"course\")"
   ]
  },
  {
   "cell_type": "code",
   "execution_count": 33,
   "metadata": {},
   "outputs": [
    {
     "data": {
      "text/plain": [
       "[<a class=\"py1\" href=\"http://www.icourse163.org/course/BIT-268001\" id=\"link1\">Basic Python</a>]"
      ]
     },
     "execution_count": 33,
     "metadata": {},
     "output_type": "execute_result"
    }
   ],
   "source": [
    "soup.find_all(id=\"link1\") # 完全匹配才能匹配到"
   ]
  },
  {
   "cell_type": "code",
   "execution_count": 34,
   "metadata": {},
   "outputs": [
    {
     "data": {
      "text/plain": [
       "[]"
      ]
     },
     "execution_count": 34,
     "metadata": {},
     "output_type": "execute_result"
    }
   ],
   "source": [
    "#  recursive: 是否对子孙全部检索，默认True\n",
    "soup.find_all('p',recursive=False)"
   ]
  },
  {
   "cell_type": "code",
   "execution_count": 35,
   "metadata": {},
   "outputs": [
    {
     "data": {
      "text/plain": [
       "['Basic Python']"
      ]
     },
     "execution_count": 35,
     "metadata": {},
     "output_type": "execute_result"
    }
   ],
   "source": [
    "# string: <>…</>中字符串区域的检索字符串\n",
    "soup.find_all(string = \"Basic Python\") # 完全匹配才能匹配到"
   ]
  },
  {
   "cell_type": "markdown",
   "metadata": {},
   "source": [
    "## 5 实战：中国大学排名定向爬取\n",
    "- 爬取url：http://www.zuihaodaxue.cn/zuihaodaxuepaiming2019.html\n",
    "- 爬取思路：\n",
    "    1. 从网络上获取大学排名网页内容\n",
    "    2. 提取网页内容中信息到合适的数据结构（二维数组）-排名，学校名称，总分\n",
    "    3. 利用数据结构展示并输出结果"
   ]
  },
  {
   "cell_type": "code",
   "execution_count": 36,
   "metadata": {},
   "outputs": [],
   "source": [
    "# 导入库\n",
    "import requests\n",
    "from bs4 import BeautifulSoup\n",
    "import bs4"
   ]
  },
  {
   "cell_type": "markdown",
   "metadata": {},
   "source": [
    "### 5.1. 从网络上获取大学排名网页内容"
   ]
  },
  {
   "cell_type": "code",
   "execution_count": 44,
   "metadata": {},
   "outputs": [],
   "source": [
    "def getHTMLText(url):\n",
    "    try:\n",
    "        r = requests.get(url, timeout=30) \n",
    "        print('status_code: %s'%r.status_code)\n",
    "        r.raise_for_status()\n",
    "        r.encoding = r.apparent_encoding\n",
    "        return r.text\n",
    "    except:\n",
    "        return \"\""
   ]
  },
  {
   "cell_type": "markdown",
   "metadata": {},
   "source": [
    "### 5.2. 提取网页内容中信息到合适的数据结构（二维数组）\n",
    "1. 查看网页源代码，观察并定位到需要爬取内容的标签；\n",
    "2. 使用bs4的查找方法提取所需信息-'排名，学校名称，总分'"
   ]
  },
  {
   "cell_type": "code",
   "execution_count": 38,
   "metadata": {},
   "outputs": [],
   "source": [
    "def fillUnivList(ulist, html):\n",
    "    soup = BeautifulSoup(html, \"html.parser\")\n",
    "    for tr in soup.find('tbody').children: \n",
    "        if isinstance(tr, bs4.element.Tag):\n",
    "            tds = tr('td')\n",
    "            # 根据实际提取需要的内容，\n",
    "            ulist.append([tds[0].string, tds[1].string, tds[3].string])  "
   ]
  },
  {
   "cell_type": "markdown",
   "metadata": {},
   "source": [
    "### 5.3. 利用数据结构展示并输出结果"
   ]
  },
  {
   "cell_type": "code",
   "execution_count": 39,
   "metadata": {},
   "outputs": [],
   "source": [
    "# 对中英文混排输出问题进行优化:对format()，设定宽度和添加参数chr(12288)\n",
    "def printUnivList(ulist, num=20):\n",
    "    tplt = \"{0:^10}\\t{1:{3}^10}\\t{2:^10}\"\n",
    "    print(tplt.format('排名', '学校名称', '总分', chr(12288)))\n",
    "    for i in range(num):\n",
    "        u = ulist[i]\n",
    "        print(tplt.format(u[0], u[1], u[2], chr(12288)))"
   ]
  },
  {
   "cell_type": "code",
   "execution_count": 40,
   "metadata": {},
   "outputs": [],
   "source": [
    "u_info = [] # 存储爬取结果的容器\n",
    "url = 'http://www.zuihaodaxue.cn/zuihaodaxuepaiming2019.html'"
   ]
  },
  {
   "cell_type": "code",
   "execution_count": 45,
   "metadata": {},
   "outputs": [
    {
     "name": "stdout",
     "output_type": "stream",
     "text": [
      "status_code: 200\n"
     ]
    }
   ],
   "source": [
    "html = getHTMLText(url) # 此处打印出来可能过长"
   ]
  },
  {
   "cell_type": "code",
   "execution_count": 47,
   "metadata": {
    "tags": [
     "outputPrepend"
    ]
   },
   "outputs": [],
   "source": [
    "fillUnivList(u_info, html) # 爬取"
   ]
  },
  {
   "cell_type": "code",
   "execution_count": 48,
   "metadata": {},
   "outputs": [
    {
     "name": "stdout",
     "output_type": "stream",
     "text": [
      "排名    \t　　　学校名称　　　\t    总分    \n",
      "    1     \t　　　清华大学　　　\t   94.6   \n",
      "    2     \t　　　北京大学　　　\t   76.5   \n",
      "    3     \t　　　浙江大学　　　\t   72.9   \n",
      "    4     \t　　上海交通大学　　\t   72.1   \n",
      "    5     \t　　　复旦大学　　　\t   65.6   \n",
      "    6     \t　中国科学技术大学　\t   60.9   \n",
      "    7     \t　　华中科技大学　　\t   58.9   \n",
      "    7     \t　　　南京大学　　　\t   58.9   \n",
      "    9     \t　　　中山大学　　　\t   58.2   \n",
      "    10    \t　哈尔滨工业大学　　\t   56.7   \n",
      "    11    \t　北京航空航天大学　\t   56.3   \n",
      "    12    \t　　　武汉大学　　　\t   56.2   \n",
      "    13    \t　　　同济大学　　　\t   55.7   \n",
      "    14    \t　　西安交通大学　　\t   55.0   \n",
      "    15    \t　　　四川大学　　　\t   54.4   \n",
      "    16    \t　　北京理工大学　　\t   54.0   \n",
      "    17    \t　　　东南大学　　　\t   53.6   \n",
      "    18    \t　　　南开大学　　　\t   52.8   \n",
      "    19    \t　　　天津大学　　　\t   52.3   \n",
      "    20    \t　　华南理工大学　　\t   52.0   \n",
      "    21    \t　　　中南大学　　　\t   50.3   \n",
      "    22    \t　　北京师范大学　　\t   49.7   \n",
      "    23    \t　　　山东大学　　　\t   49.1   \n",
      "    23    \t　　　厦门大学　　　\t   49.1   \n",
      "    25    \t　　　吉林大学　　　\t   48.9   \n",
      "    26    \t　　大连理工大学　　\t   48.6   \n",
      "    27    \t　　电子科技大学　　\t   48.4   \n",
      "    28    \t　　　湖南大学　　　\t   48.1   \n",
      "    29    \t　　　苏州大学　　　\t   47.3   \n",
      "    30    \t　　西北工业大学　　\t   46.7   \n"
     ]
    }
   ],
   "source": [
    "printUnivList(u_info, num=30) # 打印输出30个信息"
   ]
  },
  {
   "cell_type": "code",
   "execution_count": null,
   "metadata": {},
   "outputs": [],
   "source": []
  }
 ],
 "metadata": {
  "kernelspec": {
   "display_name": "Python 3",
   "language": "python",
   "name": "python3"
  },
  "language_info": {
   "codemirror_mode": {
    "name": "ipython",
    "version": 3
   },
   "file_extension": ".py",
   "mimetype": "text/x-python",
   "name": "python",
   "nbconvert_exporter": "python",
   "pygments_lexer": "ipython3",
   "version": "3.8.1"
  },
  "toc": {
   "base_numbering": 1,
   "nav_menu": {},
   "number_sections": false,
   "sideBar": true,
   "skip_h1_title": true,
   "title_cell": "Task2-bs4",
   "title_sidebar": "Contents",
   "toc_cell": true,
   "toc_position": {},
   "toc_section_display": true,
   "toc_window_display": true
  }
 },
 "nbformat": 4,
 "nbformat_minor": 2
}
