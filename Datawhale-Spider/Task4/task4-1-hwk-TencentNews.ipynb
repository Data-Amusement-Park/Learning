{
 "cells": [
  {
   "cell_type": "markdown",
   "metadata": {},
   "source": [
    "# Task 4-1 hwk 爬取腾讯新闻"
   ]
  },
  {
   "cell_type": "markdown",
   "metadata": {},
   "source": [
    "1. 了解ajax加载\n",
    "2. 通过chrome的开发者工具，监控网络请求，并分析\n",
    "3. 用selenium完成爬虫\n",
    "4. 具体流程如下：\n",
    "<br>用selenium爬取https://news.qq.com/ 的热点精选\n",
    "\n",
    "![1585810800%281%29.png](1585810800%281%29.png)\n",
    "\n",
    "热点精选至少爬50个出来，存储成csv\n",
    "\n",
    "每一行如下\n",
    "\n",
    "标号（从1开始）,标题,链接,...（前三个为必做，后面内容可以自己加）\n",
    "\n",
    "![1585810759%281%29.png](1585810759%281%29.png)\n"
   ]
  },
  {
   "cell_type": "code",
   "execution_count": 3,
   "metadata": {},
   "outputs": [],
   "source": [
    "import time\n",
    "from  selenium import webdriver\n",
    "driver=webdriver.Chrome(executable_path=\"..\\chromedriver\\chromedriver.exe\")\n",
    "driver.get(\"https://news.qq.com\")\n",
    "#了解ajax加载\n",
    "for i in range(1,100):\n",
    "    time.sleep(2)\n",
    "    driver.execute_script(\"window.scrollTo(window.scrollX, %d);\"%(i*200))"
   ]
  },
  {
   "cell_type": "code",
   "execution_count": 4,
   "metadata": {},
   "outputs": [],
   "source": [
    "from bs4 import BeautifulSoup\n",
    "html=driver.page_source\n",
    "bsObj=BeautifulSoup(html,\"lxml\") # 可以换成\"xml\"或\"html5lib\""
   ]
  },
  {
   "cell_type": "code",
   "execution_count": 5,
   "metadata": {},
   "outputs": [],
   "source": [
    "jxtits=bsObj.find_all(\"div\",{\"class\":\"jx-tit\"})[0].find_next_sibling().find_all(\"li\")"
   ]
  },
  {
   "cell_type": "code",
   "execution_count": 6,
   "metadata": {},
   "outputs": [
    {
     "output_type": "stream",
     "name": "stdout",
     "text": "index , title , url\n1 , 27日晚8点 工商执法人员在瑞幸咖啡北京总部调查逾6小时后撤离 , https://new.qq.com/zt/template/?id=FIN2020040201203200\n2 , 多地港口冻结船员换班：上万人不能下船，岸上船员亟待复工 , https://new.qq.com/omn/20200427/20200427A0MRLF00.html\n3 , 20多名学生实名举报：小学班主任体罚猥亵学生 逼女生坐大腿 , https://new.qq.com/omn/20200427/20200427V0SB6N00.html\n4 , 网传南京护士独自支援武汉无任何优待 当事人：有获得补助和证书 , https://new.qq.com/omn/20200427/20200427A0OXM900.html\n5 , 雷军董明珠再次同屏互动 互相提问又谈起赌约 , https://new.qq.com/omn/AUS20200/AUS2020042700586200.html\n6 , 研究称气溶胶中检测到新冠病毒遗传物质 能否感染尚未评估 , https://new.qq.com/omn/20200427/20200427A0R83600.html\n7 , 国际足联考虑推行单场比赛五个换人名额 , https://new.qq.com/omn/20200427/20200427A0TCQH00.html\n8 , 紧急呼叫丨错换人生28年当事母亲：儿子往事历历在目 得知非亲生心如刀割 , https://new.qq.com/omn/20200427/20200427V0PR1D00.html\n9 , 数读全球疫情：确诊病例24天增加约200万，35国确诊数均过万 , https://new.qq.com/omn/20200427/20200427A0PF4C00.html\n10 , 李国庆这一年：从发信到摔杯、夺印，一度表示不会再回当当 , https://new.qq.com/omn/20200427/20200427A0PQIL00.html\n11 , 保安讲述河北四口被杀案嫌犯抓捕细节：他躲在植物园抽烟 被民警认出 , https://new.qq.com/omn/20200427/20200427V0OLNP00.html\n12 , 中国疾控中心专家：各国都在追踪本地零号病人，但存在两个难点 , https://new.qq.com/omn/20200427/20200427A0O4I700.html\n13 , 阅文集团宣布管理团队调整 程武任CEO , https://new.qq.com/omn/TEC20200/TEC2020042700469200.html\n14 , 学生五一能出去玩吗？景区如何防控？北京这场发布会都说清了 , https://new.qq.com/zt/template/?id=SSH2020042600556500\n15 , 泰国杀妻骗保案凶手放弃上诉入监服刑 死者家属已上诉请求改判死刑 , https://new.qq.com/omn/20200427/20200427V0LIK800.html\n16 , 不止工行一家！目前针对个人投资者的挂钩大宗商品的衍生品正陆续暂停 , https://new.qq.com/zt/template/?id=FIN2020042200316800\n17 , 钱端事件新进展：深圳银保监局认定招行存在多处违规 , https://new.qq.com/omn/20200427/20200427A0ND6N00.html\n18 , 美各界质疑政府应对疫情不力，耿爽：美政府是否隐瞒了什么？ , https://new.qq.com/omn/20200427/20200427A0H11D00.html\n19 , 身边人眼中的李国庆和俞渝：他咽不下这口气，她是个典型企业家 , https://new.qq.com/zt/template/?id=TEC2020042600521000\n20 , 武汉在院新冠肺炎患者清零，专家：清零不等于全部出院 , https://new.qq.com/omn/20200427/20200427A0GJP800.html\n21 , 寻找熟悉的武汉生活：超市老板从日接万单降到数百 未来想转型线上 , https://new.qq.com/omn/20200427/20200427V05K4900.html\n22 , 英国首相鲍里斯病后首次现身唐宁街发声明 当场双拳紧握说了这话 , https://new.qq.com/omn/20200427/20200427V0JGKW00.html\n23 , 人口普查要求陆配提供家庭数据？国台办：歪曲事实别有用心 , https://new.qq.com/omn/20200427/20200427A0H4VM00.html\n24 , 逃匿期间暴瘦40多斤！公安部涉黑A级通缉令2号逃犯河北邯郸落网 , https://new.qq.com/omn/20200427/20200427A0MGZ100.html\n25 , 30省份一季报：粤苏总量保持2万亿元，湖北最困难时期已过 , https://new.qq.com/omn/20200427/20200427A0JV6G00.html\n26 , 浙江“70后”厅长跨省晋升副省长 , https://new.qq.com/omn/20200427/20200427A08JMI00.html\n27 , 全国扫黑办：挂牌督办38起涉黑涉恶案件 , https://new.qq.com/omn/20200427/20200427A0BBTS00.html\n28 , 女子“割肝救子”才发现孩子被错抱28年 涉事医院正和家属协商赔偿 , https://new.qq.com/omn/20200427/20200427A088DC00.html\n29 , “一月白头”的中央指导组专家组成员邱海波已转战黑龙江 , https://new.qq.com/omn/20200427/20200427A0CW4300.html\n30 , 造谣病毒来自武汉实验室的，原来是惯犯 , https://new.qq.com/omn/20200427/20200427A0BLNR00.html\n31 , 少女与父子生三孩案二审开庭 受害人律师：建议对抚养权予以处理 , https://new.qq.com/omn/20200427/20200427A0506400.html\n32 , 韩国89岁前总统全斗焕出庭受审 家门口警察堵成人墙 , https://new.qq.com/omn/20200427/20200427A04L6I00.html\n33 , 六部门：无犯罪记录证明等20项证明不应由社区出具 , https://new.qq.com/omn/20200427/20200427A066PB00.html\n34 , 疫情下的民办幼儿园：房租和人工会拖死大部分幼儿园 , https://new.qq.com/omn/20200426/20200426A0Q8F900.html\n35 , 为拉动消费多地重提“2.5天小长假” 能否全国范围推广？ , https://new.qq.com/zt/template/?id=FIN2020032000209000\n36 , 李国庆抢当当公章现场视频曝光：“从容”将公章装进背包 , https://new.qq.com/omn/20200427/20200427V01DY900.html\n37 , 武汉一长江大桥出现晃动，官方回应 , https://new.qq.com/omn/20200426/20200426A0O22700.html\n38 , 四川一家公司疫情期间售卖假口罩 被罚1400余万元 , https://new.qq.com/omn/20200427/20200427A00E0000.html\n39 , 河北广宗县村民家水龙头为何流出酸液？工业、生活用水管线不分 , https://new.qq.com/omn/20200427/20200427A02TN700.html\n40 , 中国已向美国提供24亿只口罩，空军向3国急送试剂盒 , https://new.qq.com/omn/20200426/20200426A0PR2B00.html\n41 , 面对面 | 父亲感染新冠肺炎去世后 我们捐献了他的遗体 , https://new.qq.com/omn/20200426/20200426V0Q4TT00.html\n42 , 湖南益阳镉大米详情待披露，当地企业曾多次涉大米镉超标案 , https://new.qq.com/omn/20200426/20200426A0PLML00.html\n43 , 全球疫情吃紧，新冠检测试剂盒为何很难走出国门 , https://new.qq.com/omn/20200426/20200426A0HWYG00.html\n44 , 河北邢台市13个村自来水现异常 17667名群众生活饮水受到影响 , https://new.qq.com/omn/20200426/20200426A0PGG800.html\n45 , 教师梁艳萍在社交平台发布不当言论 湖北大学成立调查组 , https://new.qq.com/omn/20200426/20200426A0Q1GM00.html\n46 , 缅甸武装发生大冲突：3枚炮弹落入中国境内，学校不幸被击中 , https://new.qq.com/omn/20200426/20200426V0O9OP00.html\n47 , 哈尔滨“1传80＋”，副市长陈远飞再被中央纪委通报 , https://new.qq.com/omn/20200426/20200426A0KWHQ00.html\n48 , 热点丨直击青岛小珠山起火点：火苗在峭壁上乱窜 消防员飞檐走壁追火 , https://new.qq.com/omn/20200426/20200426V0N5FG00.html\n49 , 北上与广深隔了座万亿城市：一线城市经济总量差距为何越来越大？ , https://new.qq.com/omn/20200426/20200426A0EPVI00.html\n50 , 想“割肝救子”发现不是血亲，“但我还是想拼了命救他” , https://new.qq.com/omn/20200426/20200426A0KXU900.html\n51 , 河南开封卫健委回应“错换人生28年”事件：会督促医院协商赔偿 , https://new.qq.com/omn/20200426/20200426A0MCT200.html\n52 , 探访被李国庆“夺权”后的当当总部：有员工表示“欢迎李哥回来” , https://new.qq.com/omn/20200426/20200426V0LZUB00.html\n53 , 市委书记、市长请了10位企业家一起吃饭，现场画面曝光 , https://new.qq.com/omn/20200426/20200426A0GYH700.html\n54 , 开门见墓！规划公园变墓园修豪华活人墓 为躲检查用绿布遮盖墓穴 , https://new.qq.com/omn/20200426/20200426V0EQJ100.html\n55 , 31省份最低工资调整出炉：上海2480元领跑 北京时薪最高 , https://new.qq.com/omn/20200426/20200426A0G0WS00.html\n56 , 媒体：“多国女子想嫁到中国”，鸡血含量高达100％ , https://new.qq.com/omn/20200426/20200426A0DVC700.html\n57 , 美国医生4次被拒检测后死亡 女儿心寒：她为医院工作了31年 , https://new.qq.com/omn/20200426/20200426V0NFXD00.html\n58 , 知名女网红制售假奢侈品被抓受审画面曝光 起底其背后上亿隐秘产业链 , https://new.qq.com/omn/20200426/20200426V0N0B700.html\n59 , 探访当当网总部：当当网报警称李国庆闯入抢走公章 , https://new.qq.com/omn/20200426/20200426V0JNY500.html\n60 , 非洲人在华遭虐待？法新社核查网络视频揭开真相 , https://new.qq.com/omn/20200426/20200426A0ALM200.html\n61 , 河北广宗自来水灼伤村民 记者探访涉事企业：大门紧闭已停工 , https://new.qq.com/omn/20200426/20200426V0HHDQ00.html\n62 , 现场画面！武汉最后一批在院新冠肺炎患者出院 , https://new.qq.com/omn/20200426/20200426V0HGUW00.html\n63 , 湖北居民因疫情无法在签注有效期内赴港澳台？官方回应了 , https://new.qq.com/omn/20200426/20200426A0IFC300.html\n64 , 儿童独自在车内被车窗卡住去世 警方：事发时无人看管 , https://new.qq.com/omn/20200426/20200426V0HAKO00.html\n65 , 台北一间KTV失火已有54人送医，其中5人死亡2人生命垂危 , https://new.qq.com/omn/20200426/20200426A0HY0O00.html\n66 , 李国庆率4大汉赴当当夺回公章，宣布全面接管当当“罢免”俞渝 , https://new.qq.com/omn/20200426/20200426A0E6IP00.html\n67 , 对话“错换人生28年”事件4名当事人：卖血借钱先治病，再追责 , https://new.qq.com/omn/TWF20200/TWF2020042600245200.html\n68 , 甘肃女生遭猥亵坠亡案教师获刑两年 女生父亲：他出庭时还在抵赖 , https://new.qq.com/omn/20200426/20200426V0B80L00.html\n69 , 牛弹琴：美国海军要“造反”了！ , https://new.qq.com/omn/20200426/20200426A04E9K00.html\n70 , 回归烟火气的武汉：市民蹲街边过早 吃到热干面有久违的感觉 , https://new.qq.com/omn/20200426/20200426V00V8Y00.html\n71 , “胖妞”出国抗疫的三大看点 , https://new.qq.com/omn/20200426/20200426A0666H00.html\n72 , 国家跨省异地就医结算系统暂停服务 可延期办理联网结算 , https://new.qq.com/omn/20200426/20200426A076LK00.html\n73 , 安徽初中女生学校坠亡：日记自述患抑郁症，两舍友目睹其后仰坠楼  , https://new.qq.com/omn/20200426/20200426A053LS00.html\n74 , 哈尔滨新冠疫情传染链再延长：已致80多人感染 许多疑问仍待解 , https://new.qq.com/omn/TWF20200/TWF2020042600026900.html\n75 , 广西边境查获13名非法入境外国人，现场画面曝光 , https://new.qq.com/omn/20200425/20200425V0M94M00.html\n76 , 青岛小珠山山火6处火点已被扑灭 617名撤离居民返家 , https://new.qq.com/omn/20200426/20200426A00CND00.html\n77 , 湖南失踪女大学生遇害 同村嫌疑人被抓 案发当天部分监控缺失 , https://new.qq.com/omn/20200426/20200426A00CGT00.html\n78 , 长江流域抗生素污染调查：儿童孕妇尿液中检出多种抗生素 , https://new.qq.com/omn/20200425/20200425A07RED00.html\n79 , 河北广宗饮用水异常原因查明：3名嫌疑人被控制 企业法人投案自首 , https://new.qq.com/omn/20200425/20200425A0MGXN00.html\n80 , 公安部对13人发A级通缉令已有6人落网，22岁女逃犯东莞被抓 , https://new.qq.com/omn/20200425/20200425A0OHMS00.html\n81 , 商务部等加强非医用口罩出口监管：报关时须提交进出口双方共同声明 , https://new.qq.com/omn/20200426/20200426A00DYM00.html\n82 , 镉大米重现：“毒大米”为何屡禁不绝？ , https://new.qq.com/omn/20200425/20200425A0IYB100.html\n83 , 青岛小珠山两处山火复燃 地形陡峭难以靠近救援队无奈折返 , https://new.qq.com/omn/20200425/20200425V0NS7V00.html\n84 , 湖南省2天5人被查，省纪委监委：反腐没有“暂停键” , https://new.qq.com/omn/20200425/20200425A0H7CO00.html\n85 , 公积金要取消？多地减缓缴存！争议公积金存废：14.6万亿规模怎么替代 , https://new.qq.com/omn/20200425/20200425A0B4EQ00.html\n86 , “常阳患者”会传染吗？援鄂一线专家六问释疑 , https://new.qq.com/omn/20200425/20200425A0DOOF00.html\n87 , 80后海归女老板：三个月损失超九千万 亲自开车送快餐 , https://new.qq.com/omn/20200424/20200424V0HGZU00.html\n88 , 多地明确暑假时间，部分地区延期近一个月 , https://new.qq.com/omn/20200425/20200425A0LHFY00.html\n89 , 河北保定一家四口遇害：嫌疑人系住对门的亲戚，两家曾有矛盾 , https://new.qq.com/omn/20200425/20200425A0KRTE00.html\n90 , 海航流动性危机发酵：海航基础业绩大变脸，剩余地产资产归属将现终局 , https://new.qq.com/omn/20200425/20200425A0IVM000.html\n91 , 江西景德镇客车侧翻致6死事故画面曝光 客车避让轿车后失控 , https://new.qq.com/omn/20200424/20200424V0Q2K300.html\n92 , 美国共和党“积极攻击中国”备忘录曝光，华春莹发推反击 , https://new.qq.com/omn/20200425/20200425A0GRZ100.html\n93 , 专家：武汉“封城”让全球减少1200万-4200万感染者 , https://new.qq.com/omn/20200425/20200425A0LWXL00.html\n94 , 伊朗首射军星后，美伊在波斯湾“危险接近”会否升级？ , https://new.qq.com/omn/20200425/20200425A0EQQR00.html\n95 , 最新发现！鼻子或是新冠病毒感染的“毒库” , https://new.qq.com/omn/20200425/20200425A0A5CC00.html\n96 , 疫情中的日本黑帮：大发口罩财，比政府更早进入紧急状态 , https://new.qq.com/omn/20200424/20200424A0SWME00.html\n97 , 台媒：美军驱逐舰通过台湾海峡后，反潜机又经巴士海峡进入南海 , https://new.qq.com/omn/20200425/20200425A0AUUP00.html\n98 , 世卫组织：无证据表明新冠肺炎康复者能避免二次感染 , https://new.qq.com/omn/20200425/20200425A0KM8100.html\n99 , 25省发布一季度GDP数据：湖北跌出万亿俱乐部，23省增速超全国 , https://new.qq.com/omn/20200425/20200425A0IKFA00.html\n100 , 河北保定发生重大刑案警方悬赏5万缉凶 村民：一家四人被杀 , https://new.qq.com/omn/20200425/20200425V05VKJ00.html\n101 , 兰州娱乐场所陆续复工：限流限时营业 一客一消杀 , https://new.qq.com/omn/20200425/20200425A0IE7S00.html\n102 , 加拿大从中国采购口罩“不达标”？中国驻加使馆回应 , https://new.qq.com/omn/20200425/20200425A0AV7U00.html\n103 , 云南旱情历史罕见：137条河道断流 201座水库干涸 , https://new.qq.com/omn/TWF20200/TWF2020042500352200.html\n104 , “五一”假期如何出行？各地景区恢复政策大汇总 , https://new.qq.com/omn/20200425/20200425A05Z3500.html\n105 , 疑因护士抱错致“错换人生28年” 涉事医院：若是医院的错绝不护短 , https://new.qq.com/omn/20200425/20200425A0EHWH00.html\n106 , 青岛小珠山山火已明显减弱：千余人彻夜扑救 已不见明火 , https://new.qq.com/omn/20200425/20200425V06UUA00.html\n107 , 有关后新冠时代的13个判断：世界将大不一样（下） , https://new.qq.com/omn/20200424/20200424A0N6WS00.html\n108 , 部分途经墨西哥转机中国公民被遣返回出发地，中使馆发紧急提醒 , https://new.qq.com/omn/20200425/20200425A05KWR00.html\n109 , 张文宏回应“早餐喝不喝粥”争议：有讨论就是好事 , https://new.qq.com/omn/KLS20200/KLS2020042500429000.html\n110 , “甘肃庆阳女生遭猥亵坠亡”当事教师获刑2年 禁止从事相关职业3年 , https://new.qq.com/omn/20200425/20200425A0EGU900.html\n111 , 全国高速公路道口恢复“落杆”状态，仍然免费通行 , https://new.qq.com/omn/20200424/20200424A0SXDK00.html\n112 , 被公安部通缉的“98年生女逃犯”已被刑拘：涉嫌参与传销非法拘禁 , https://new.qq.com/omn/20200424/20200424A0UHUR00.html\n113 , 滞留巴厘岛的中国人：航班多次取消，孕妇等到快生娃，仍不知归期 , https://new.qq.com/omn/20200425/20200425A07ZFW00.html\n114 , 谷雨｜燕郊固安的环京人：上下班5小时辗转70公里 只为生活好 , https://new.qq.com/omn/20200425/20200425A063VT00.html\n115 , 内蒙古：所有入境人员一律实行“14＋14＋2＋1”管控措施 , https://new.qq.com/omn/20200425/20200425A0309A00.html\n116 , 湖南益阳：立案调查涉云南重金属超标大米7家企业 , https://new.qq.com/omn/20200425/20200425A0496R00.html\n117 , 抗疫期间顶风公款聚餐 江苏响水公检法一把手齐被问责 , https://new.qq.com/omn/20200425/20200425A04IW800.html\n118 , 婴儿趴睡致死知情人曝惊人内幕：有话术洗脑压制母亲不能去帮孩子 , https://new.qq.com/omn/20200424/20200424V0SG5F00.html\n"
    }
   ],
   "source": [
    "print(\"index\",\",\",\"title\",\",\",\"url\")\n",
    "for i,jxtit in enumerate(jxtits):\n",
    "#     print(jxtit)\n",
    "    \n",
    "    try:\n",
    "        text=jxtit.find_all(\"img\")[0][\"alt\"]\n",
    "    except:\n",
    "        text=jxtit.find_all(\"div\",{\"class\":\"lazyload-placeholder\"})[0].text\n",
    "    try:\n",
    "        url=jxtit.find_all(\"a\")[0][\"href\"]\n",
    "    except:\n",
    "        print(jxtit)\n",
    "    print(i+1,\",\",text,\",\",url) \n"
   ]
  },
  {
   "cell_type": "code",
   "execution_count": null,
   "metadata": {},
   "outputs": [],
   "source": []
  }
 ],
 "metadata": {
  "language_info": {
   "codemirror_mode": {
    "name": "ipython",
    "version": 3
   },
   "file_extension": ".py",
   "mimetype": "text/x-python",
   "name": "python",
   "nbconvert_exporter": "python",
   "pygments_lexer": "ipython3",
   "version": "3.8.1-final"
  },
  "orig_nbformat": 2,
  "kernelspec": {
   "name": "python3",
   "display_name": "Python 3"
  }
 },
 "nbformat": 4,
 "nbformat_minor": 2
}