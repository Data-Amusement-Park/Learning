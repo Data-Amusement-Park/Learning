{
 "cells": [
  {
   "cell_type": "markdown",
   "metadata": {},
   "source": [
    "# Task3-1 session_cookie\n"
   ]
  },
  {
   "cell_type": "markdown",
   "metadata": {},
   "source": [
    "## 模拟登录163"
   ]
  },
  {
   "cell_type": "code",
   "execution_count": null,
   "metadata": {},
   "outputs": [],
   "source": [
    "import time\n",
    "\n",
    "from selenium import webdriver\n",
    "from selenium.webdriver.common.by import By"
   ]
  },
  {
   "cell_type": "code",
   "execution_count": null,
   "metadata": {},
   "outputs": [],
   "source": [
    "\"\"\"\n",
    "使用selenium进行模拟登陆\n",
    "1.初始化ChromDriver\n",
    "2.打开163登陆页面\n",
    "3.找到用户名的输入框，输入用户名\n",
    "4.找到密码框，输入密码\n",
    "5.提交用户信息\n",
    "\"\"\"\n",
    "name = '*'\n",
    "passwd = '*'\n",
    "driver = webdriver.Chrome('../chromedriver/chromedriver.exe')\n",
    "driver.get('https://mail.163.com/')\n",
    "# 将窗口调整最大\n",
    "driver.maximize_window()\n",
    "# 休息5s\n",
    "time.sleep(5)\n",
    "current_window_1 = driver.current_window_handle\n",
    "print(current_window_1)"
   ]
  },
  {
   "cell_type": "code",
   "execution_count": null,
   "metadata": {},
   "outputs": [],
   "source": [
    "button = driver.find_element_by_id('lbNormal')\n",
    "button.click()\n",
    "\n",
    "driver.switch_to.frame(driver.find_element_by_xpath(\"//iframe[starts-with(@id, 'x-URS-iframe')]\"))"
   ]
  },
  {
   "cell_type": "code",
   "execution_count": null,
   "metadata": {},
   "outputs": [],
   "source": [
    "email = driver.find_element_by_name('email')\n",
    "#email = driver.find_element_by_xpath('//input[@name=\"email\"]')\n",
    "email.send_keys(name)\n",
    "password = driver.find_element_by_name('password')\n",
    "#password = driver.find_element_by_xpath(\"//input[@name='password']\")\n",
    "password.send_keys(passwd)\n",
    "submit = driver.find_element_by_id(\"dologin\")\n",
    "time.sleep(15)\n",
    "submit.click()\n",
    "time.sleep(10)\n",
    "print(driver.page_source)\n",
    "driver.quit()"
   ]
  },
  {
   "cell_type": "code",
   "execution_count": null,
   "metadata": {},
   "outputs": [],
   "source": []
  }
 ],
 "metadata": {
  "language_info": {
   "codemirror_mode": {
    "name": "ipython",
    "version": 3
   },
   "file_extension": ".py",
   "mimetype": "text/x-python",
   "name": "python",
   "nbconvert_exporter": "python",
   "pygments_lexer": "ipython3",
   "version": "3.8.1-final"
  },
  "orig_nbformat": 2,
  "kernelspec": {
   "name": "python3",
   "display_name": "Python 3"
  }
 },
 "nbformat": 4,
 "nbformat_minor": 2
}